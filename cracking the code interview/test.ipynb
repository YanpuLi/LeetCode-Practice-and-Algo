{
 "cells": [
  {
   "cell_type": "code",
   "execution_count": 1,
   "metadata": {
    "collapsed": true
   },
   "outputs": [],
   "source": [
    "#O(n)\n",
    "def isUnique(s):\n",
    "     # Assuming character set is ASCII (128 characters)\n",
    "        if len(s) >128:\n",
    "            return False\n",
    "        l = [False]*128\n",
    "        for i in s:\n",
    "            val = ord(i)\n",
    "            if l[val]:\n",
    "                return False\n",
    "            l[val] = True\n",
    "        return True"
   ]
  },
  {
   "cell_type": "code",
   "execution_count": 24,
   "metadata": {
    "collapsed": false
   },
   "outputs": [
    {
     "name": "stdout",
     "output_type": "stream",
     "text": [
      "0 0 1 21\n",
      "0 1 2 16\n",
      "0 2 3 11\n",
      "0 3 4 6\n",
      "1 1 7 17\n",
      "1 2 8 12\n"
     ]
    },
    {
     "data": {
      "text/plain": [
       "[[21, 16, 11, 6, 1],\n",
       " [22, 17, 12, 7, 2],\n",
       " [23, 18, 13, 8, 3],\n",
       " [24, 19, 14, 9, 4],\n",
       " [25, 20, 15, 10, 5]]"
      ]
     },
     "execution_count": 24,
     "metadata": {},
     "output_type": "execute_result"
    }
   ],
   "source": [
    "def rotate_matrix(matrix):\n",
    "    '''rotates a matrix 90 degrees clockwise'''\n",
    "    n = len(matrix)\n",
    "    for layer in range(n // 2):\n",
    "        first, last = layer, n - layer - 1\n",
    "        for i in range(first, last):\n",
    "            # save top\n",
    "            top = matrix[layer][i]\n",
    "            \n",
    "            # left -> top\n",
    "            matrix[layer][i] = matrix[-i - 1][layer]\n",
    "            print layer, i,top, matrix[-i - 1][layer]\n",
    "            # bottom -> left\n",
    "            matrix[-i - 1][layer] = matrix[-layer - 1][-i - 1]\n",
    "\n",
    "            # right -> bottom\n",
    "            matrix[-layer - 1][-i - 1] = matrix[i][- layer - 1]\n",
    "\n",
    "            # top -> right\n",
    "            matrix[i][- layer - 1] = top\n",
    "    return matrix\n",
    "data = [[1, 2, 3, 4, 5],\n",
    "        [6, 7, 8, 9, 10],\n",
    "        [11, 12, 13, 14, 15],\n",
    "        [16, 17, 18, 19, 20],\n",
    "        [21, 22, 23, 24, 25]]\n",
    "rotate_matrix(data)"
   ]
  },
  {
   "cell_type": "code",
   "execution_count": 26,
   "metadata": {
    "collapsed": false
   },
   "outputs": [
    {
     "data": {
      "text/plain": [
       "array([[ 1,  2,  3,  4,  5],\n",
       "       [ 6,  7,  8,  9, 10],\n",
       "       [11, 12, 13, 14, 15],\n",
       "       [16, 17, 18, 19, 20],\n",
       "       [21, 22, 23, 24, 25]])"
      ]
     },
     "execution_count": 26,
     "metadata": {},
     "output_type": "execute_result"
    }
   ],
   "source": [
    "import numpy as np\n",
    "a = np.arange(1,26).reshape((5, 5))\n",
    "a"
   ]
  },
  {
   "cell_type": "code",
   "execution_count": 3,
   "metadata": {
    "collapsed": false
   },
   "outputs": [
    {
     "name": "stdout",
     "output_type": "stream",
     "text": [
      "2\n",
      "1\n",
      "2\n",
      "2\n",
      "3\n",
      "4\n",
      "5\n",
      "2\n",
      "1\n",
      "2\n",
      "2\n",
      "3\n",
      "4\n",
      "5\n"
     ]
    }
   ],
   "source": [
    "from LinkedList import UnorderList\n",
    "ll = UnorderList()\n",
    "ll.add(5)\n",
    "ll.add(4)\n",
    "ll.add(3)\n",
    "ll.add(2)\n",
    "ll.add(2)\n",
    "ll.add(1)\n",
    "ll.add(2)\n",
    "ll.printList()\n",
    "def removeDup(l):\n",
    "    if l.head == None or l.head.next == None:\n",
    "        return l.head\n",
    "    curr = l.head\n",
    "    values = set([curr.val])\n",
    "    while curr.next:\n",
    "        if curr.next.val in values:\n",
    "            curr.next = curr.next.next\n",
    "        else:\n",
    "            values.add(curr.next.val)\n",
    "            curr = curr.next\n",
    "    return l\n",
    "def removeDup2(l):\n",
    "    if l.head == None or l.head.next == None:\n",
    "        return l.head\n",
    "    curr = l.head\n",
    "    while curr:\n",
    "        pointer = curr\n",
    "        while pointer.next:\n",
    "            if curr.val == pointer.next.val:\n",
    "                pointer.next = pointer.next.next\n",
    "            else:\n",
    "                pointer = pointer.next\n",
    "    return l.head\n",
    "#removeDup2(ll)\n",
    "ll.printList()"
   ]
  },
  {
   "cell_type": "code",
   "execution_count": 22,
   "metadata": {
    "collapsed": false
   },
   "outputs": [
    {
     "name": "stdout",
     "output_type": "stream",
     "text": [
      "1\n",
      "7\n",
      "2\n",
      "3\n",
      "4\n",
      "5\n"
     ]
    }
   ],
   "source": [
    "from LinkedList import UnorderList\n",
    "ll = UnorderList()\n",
    "ll.add(5)\n",
    "ll.add(4)\n",
    "ll.add(3)\n",
    "ll.add(2)\n",
    "ll.add(7)\n",
    "ll.add(1)\n",
    "\n",
    "ll.printList()"
   ]
  },
  {
   "cell_type": "code",
   "execution_count": 15,
   "metadata": {
    "collapsed": false
   },
   "outputs": [
    {
     "name": "stdout",
     "output_type": "stream",
     "text": [
      "The 2th element is 4\n"
     ]
    },
    {
     "data": {
      "text/plain": [
       "5"
      ]
     },
     "execution_count": 15,
     "metadata": {},
     "output_type": "execute_result"
    }
   ],
   "source": [
    "def findKth(head, k):\n",
    "    if head == None:\n",
    "        return 0\n",
    "    \n",
    "    i= findKth(head.next, k)+1\n",
    "    if i == k:\n",
    "        print 'The %ith element is %i'%(k, head.val)\n",
    "    return i\n",
    "findKth(ll.head, 2)"
   ]
  },
  {
   "cell_type": "code",
   "execution_count": 16,
   "metadata": {
    "collapsed": false
   },
   "outputs": [
    {
     "data": {
      "text/plain": [
       "4"
      ]
     },
     "execution_count": 16,
     "metadata": {},
     "output_type": "execute_result"
    }
   ],
   "source": [
    "def findKth2(head, k):\n",
    "    if head == None:\n",
    "        return None\n",
    "    p1, p2 = head, head\n",
    "    step = k-1\n",
    "    while step > 0:\n",
    "        if p2 == None: return None\n",
    "        p2 = p2.next\n",
    "        step -= 1\n",
    "    if p2 == None: return None\n",
    "    while p2.next != None:\n",
    "        p1=p1.next\n",
    "        p2=p2.next\n",
    "    return p1.val\n",
    "findKth2(ll.head, 2)"
   ]
  },
  {
   "cell_type": "code",
   "execution_count": 24,
   "metadata": {
    "collapsed": false
   },
   "outputs": [
    {
     "name": "stdout",
     "output_type": "stream",
     "text": [
      "3\n",
      "2\n",
      "1\n",
      "7\n",
      "4\n",
      "5\n"
     ]
    }
   ],
   "source": [
    "\n",
    "def partition(linkedlist, x):\n",
    "    if linkedlist.head != None:\n",
    "        p1 = linkedlist.head\n",
    "        p2 = linkedlist.head.next\n",
    "        while p2 != None:\n",
    "            if p2.val < x:\n",
    "                p1.next = p2.next\n",
    "                p2.next = linkedlist.head\n",
    "                linkedlist.head = p2\n",
    "                p2 = p1.next\n",
    "            else:\n",
    "                p1 = p1.next\n",
    "                p2 = p1.next\n",
    "partition(ll, 4)\n",
    "ll.printList()"
   ]
  },
  {
   "cell_type": "code",
   "execution_count": null,
   "metadata": {
    "collapsed": true
   },
   "outputs": [],
   "source": [
    "def partition(l , x):\n",
    "    if l.head == None:\n",
    "        return None\n",
    "    p1 = l.head\n",
    "    p2 = l.head.next\n",
    "    while p2 != None:\n",
    "        if p2.val <x:\n",
    "            p1.next = p2.next\n",
    "            p2.next = l.head\n",
    "            l.head = p2\n",
    "            p2 = p1.next\n",
    "        else:\n",
    "            p1 = p1.next\n",
    "            p2 = p2.next"
   ]
  }
 ],
 "metadata": {
  "kernelspec": {
   "display_name": "Python 2",
   "language": "python",
   "name": "python2"
  },
  "language_info": {
   "codemirror_mode": {
    "name": "ipython",
    "version": 2
   },
   "file_extension": ".py",
   "mimetype": "text/x-python",
   "name": "python",
   "nbconvert_exporter": "python",
   "pygments_lexer": "ipython2",
   "version": "2.7.13"
  }
 },
 "nbformat": 4,
 "nbformat_minor": 0
}
