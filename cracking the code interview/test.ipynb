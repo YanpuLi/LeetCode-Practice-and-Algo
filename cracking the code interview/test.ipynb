{
 "cells": [
  {
   "cell_type": "code",
   "execution_count": 1,
   "metadata": {
    "collapsed": true
   },
   "outputs": [],
   "source": [
    "#O(n)\n",
    "def isUnique(s):\n",
    "     # Assuming character set is ASCII (128 characters)\n",
    "        if len(s) >128:\n",
    "            return False\n",
    "        l = [False]*128\n",
    "        for i in s:\n",
    "            val = ord(i)\n",
    "            if l[val]:\n",
    "                return False\n",
    "            l[val] = True\n",
    "        return True"
   ]
  },
  {
   "cell_type": "code",
   "execution_count": 24,
   "metadata": {
    "collapsed": false
   },
   "outputs": [
    {
     "name": "stdout",
     "output_type": "stream",
     "text": [
      "0 0 1 21\n",
      "0 1 2 16\n",
      "0 2 3 11\n",
      "0 3 4 6\n",
      "1 1 7 17\n",
      "1 2 8 12\n"
     ]
    },
    {
     "data": {
      "text/plain": [
       "[[21, 16, 11, 6, 1],\n",
       " [22, 17, 12, 7, 2],\n",
       " [23, 18, 13, 8, 3],\n",
       " [24, 19, 14, 9, 4],\n",
       " [25, 20, 15, 10, 5]]"
      ]
     },
     "execution_count": 24,
     "metadata": {},
     "output_type": "execute_result"
    }
   ],
   "source": [
    "def rotate_matrix(matrix):\n",
    "    '''rotates a matrix 90 degrees clockwise'''\n",
    "    n = len(matrix)\n",
    "    for layer in range(n // 2):\n",
    "        first, last = layer, n - layer - 1\n",
    "        for i in range(first, last):\n",
    "            # save top\n",
    "            top = matrix[layer][i]\n",
    "            \n",
    "            # left -> top\n",
    "            matrix[layer][i] = matrix[-i - 1][layer]\n",
    "            print layer, i,top, matrix[-i - 1][layer]\n",
    "            # bottom -> left\n",
    "            matrix[-i - 1][layer] = matrix[-layer - 1][-i - 1]\n",
    "\n",
    "            # right -> bottom\n",
    "            matrix[-layer - 1][-i - 1] = matrix[i][- layer - 1]\n",
    "\n",
    "            # top -> right\n",
    "            matrix[i][- layer - 1] = top\n",
    "    return matrix\n",
    "data = [[1, 2, 3, 4, 5],\n",
    "        [6, 7, 8, 9, 10],\n",
    "        [11, 12, 13, 14, 15],\n",
    "        [16, 17, 18, 19, 20],\n",
    "        [21, 22, 23, 24, 25]]\n",
    "rotate_matrix(data)"
   ]
  },
  {
   "cell_type": "code",
   "execution_count": 26,
   "metadata": {
    "collapsed": false
   },
   "outputs": [
    {
     "data": {
      "text/plain": [
       "array([[ 1,  2,  3,  4,  5],\n",
       "       [ 6,  7,  8,  9, 10],\n",
       "       [11, 12, 13, 14, 15],\n",
       "       [16, 17, 18, 19, 20],\n",
       "       [21, 22, 23, 24, 25]])"
      ]
     },
     "execution_count": 26,
     "metadata": {},
     "output_type": "execute_result"
    }
   ],
   "source": [
    "import numpy as np\n",
    "a = np.arange(1,26).reshape((5, 5))\n",
    "a"
   ]
  },
  {
   "cell_type": "code",
   "execution_count": 3,
   "metadata": {
    "collapsed": false
   },
   "outputs": [
    {
     "name": "stdout",
     "output_type": "stream",
     "text": [
      "2\n",
      "1\n",
      "2\n",
      "2\n",
      "3\n",
      "4\n",
      "5\n",
      "2\n",
      "1\n",
      "2\n",
      "2\n",
      "3\n",
      "4\n",
      "5\n"
     ]
    }
   ],
   "source": [
    "from LinkedList import UnorderList\n",
    "ll = UnorderList()\n",
    "ll.add(5)\n",
    "ll.add(4)\n",
    "ll.add(3)\n",
    "ll.add(2)\n",
    "ll.add(2)\n",
    "ll.add(1)\n",
    "ll.add(2)\n",
    "ll.printList()\n",
    "def removeDup(l):\n",
    "    if l.head == None or l.head.next == None:\n",
    "        return l.head\n",
    "    curr = l.head\n",
    "    values = set([curr.val])\n",
    "    while curr.next:\n",
    "        if curr.next.val in values:\n",
    "            curr.next = curr.next.next\n",
    "        else:\n",
    "            values.add(curr.next.val)\n",
    "            curr = curr.next\n",
    "    return l\n",
    "def removeDup2(l):\n",
    "    if l.head == None or l.head.next == None:\n",
    "        return l.head\n",
    "    curr = l.head\n",
    "    while curr:\n",
    "        pointer = curr\n",
    "        while pointer.next:\n",
    "            if curr.val == pointer.next.val:\n",
    "                pointer.next = pointer.next.next\n",
    "            else:\n",
    "                pointer = pointer.next\n",
    "    return l.head\n",
    "#removeDup2(ll)\n",
    "ll.printList()"
   ]
  },
  {
   "cell_type": "code",
   "execution_count": 11,
   "metadata": {
    "collapsed": false
   },
   "outputs": [
    {
     "data": {
      "text/plain": [
       "1"
      ]
     },
     "execution_count": 11,
     "metadata": {},
     "output_type": "execute_result"
    }
   ],
   "source": [
    "from LinkedList import UnorderList\n",
    "l1 = UnorderList()\n",
    "l1.add(1)\n",
    "l1.add(2)\n",
    "l1.add(3)\n",
    "l1.add(4)\n",
    "l1.add(5)\n",
    "l1.add(6)\n",
    "curr = l1.head\n",
    "prev = None\n",
    "c = 6\n",
    "while c:\n",
    "    if curr.val == 1:\n",
    "        curr.next = prev\n",
    "    prev = curr\n",
    "    curr = curr.next\n",
    "    c -= 1\n",
    "def detect_loop(l):\n",
    "    fast, slow = l.head, l.head\n",
    "    while fast and fast.next and fast is not slow:\n",
    "        fast = fast.next.next\n",
    "        slow = slow.next\n",
    "    "
   ]
  },
  {
   "cell_type": "code",
   "execution_count": null,
   "metadata": {
    "collapsed": true
   },
   "outputs": [],
   "source": []
  }
 ],
 "metadata": {
  "kernelspec": {
   "display_name": "Python 2",
   "language": "python",
   "name": "python2"
  },
  "language_info": {
   "codemirror_mode": {
    "name": "ipython",
    "version": 2
   },
   "file_extension": ".py",
   "mimetype": "text/x-python",
   "name": "python",
   "nbconvert_exporter": "python",
   "pygments_lexer": "ipython2",
   "version": "2.7.13"
  }
 },
 "nbformat": 4,
 "nbformat_minor": 0
}
