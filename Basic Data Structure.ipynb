{
 "cells": [
  {
   "cell_type": "markdown",
   "metadata": {},
   "source": [
    "# Tree"
   ]
  },
  {
   "cell_type": "code",
   "execution_count": null,
   "metadata": {
    "collapsed": true
   },
   "outputs": [],
   "source": [
    "'''\n",
    "Inorder print a BT\n",
    "using stack, push root and all its left child into stack, if no leftchild, then pop stack, then go through all right child\n",
    "\n",
    "'''\n",
    "class TreeNode(object):\n",
    "     def __init__(self, x):\n",
    "            self.val = x\n",
    "            self.left = None\n",
    "            self.right = None\n",
    "\n",
    "class Solution(object):\n",
    "    def inorderTraversal(self, root):\n",
    "        \"\"\"\n",
    "        :type root: TreeNode\n",
    "        :rtype: List[int]\n",
    "        \"\"\"\n",
    "        result = []\n",
    "        stack = []\n",
    "        p = root\n",
    "        while p or stack:\n",
    "            # Save the nodes which have left child\n",
    "            while p:\n",
    "                stack.append(p)\n",
    "                p = p.left\n",
    "            if stack:\n",
    "                p = stack.pop()\n",
    "                # Visit the middle node\n",
    "                result.append(p.val)\n",
    "                # Visit the right subtree\n",
    "                p = p.right\n",
    "        return result\n",
    "    '''\n",
    "    given inorder of a BST, the value of the sequence must be increasing\n",
    "    '''\n",
    "    def isValidBST(self, root):\n",
    "        curr = root\n",
    "        prev = None\n",
    "        stack = []\n",
    "        while curr or stack:\n",
    "            while curr:\n",
    "                stack.append(curr)\n",
    "                curr = curr.left\n",
    "                \n",
    "            if stack:\n",
    "                curr = stack.pop()\n",
    "                if prev and prev.val >= curr.val:\n",
    "                    return False\n",
    "                prev = curr\n",
    "                curr = curr.right\n",
    "        return True\n",
    "    "
   ]
  },
  {
   "cell_type": "markdown",
   "metadata": {},
   "source": [
    "# Stack"
   ]
  },
  {
   "cell_type": "code",
   "execution_count": 2,
   "metadata": {
    "collapsed": true
   },
   "outputs": [],
   "source": [
    "class Stack:\n",
    "    def __init__(self):\n",
    "        self.items = []\n",
    "    def isEmpty(self):\n",
    "        return self.items == []\n",
    "    def push(self, item):\n",
    "        self.items.append(item)\n",
    "    def pop(self):\n",
    "        return self.items.pop()\n",
    "    def peek(self):\n",
    "        return self.items[len(self.items)-1]\n",
    "    def size(self):\n",
    "        return len(self.items)"
   ]
  },
  {
   "cell_type": "code",
   "execution_count": 6,
   "metadata": {
    "collapsed": false
   },
   "outputs": [
    {
     "name": "stdout",
     "output_type": "stream",
     "text": [
      "False\n"
     ]
    }
   ],
   "source": [
    "def checkParenthese(string):\n",
    "    stack = Stack()\n",
    "    balanced = True\n",
    "    index = 0\n",
    "    while index < len(string) and balanced:\n",
    "        symbol = string[index]\n",
    "        index += 1\n",
    "        if symbol ==\"(\":\n",
    "            stack.push(symbol)\n",
    "        elif stack.isEmpty():\n",
    "            balanced = False\n",
    "        else:\n",
    "            stack.pop()\n",
    "    if stack.isEmpty() and balanced:\n",
    "        return True\n",
    "    else:\n",
    "        return False\n",
    "print checkParenthese(\"(((())))(()\")"
   ]
  },
  {
   "cell_type": "code",
   "execution_count": 39,
   "metadata": {
    "collapsed": false
   },
   "outputs": [
    {
     "name": "stdout",
     "output_type": "stream",
     "text": [
      "100\n"
     ]
    }
   ],
   "source": [
    "def decimalToBinary(num):\n",
    "    s = Stack()\n",
    "    while num>0:\n",
    "        digit = num%2\n",
    "        s.push(digit)\n",
    "        num = num //2\n",
    "    binString = \"\"\n",
    "    while not s.isEmpty():\n",
    "        binString = binString + str(s.peek())\n",
    "        s.pop()\n",
    "\n",
    "    return binString\n",
    "\n",
    "print decimalToBinary(4)"
   ]
  },
  {
   "cell_type": "code",
   "execution_count": 40,
   "metadata": {
    "collapsed": false
   },
   "outputs": [],
   "source": [
    "class Queue:\n",
    "    def __init__(self):\n",
    "        self.items = []\n",
    "    def isEmpty(self):\n",
    "        return self.items == []\n",
    "# add to rear\n",
    "    def enqueue(self, item):\n",
    "        self.items.insert(0,item)\n",
    "# pop front \n",
    "    def dequeue(self):\n",
    "        return self.items.pop()\n",
    "\n",
    "    def size(self):\n",
    "        return len(self.items)"
   ]
  },
  {
   "cell_type": "markdown",
   "metadata": {},
   "source": [
    "# Waiting time estimate for printing task"
   ]
  },
  {
   "cell_type": "code",
   "execution_count": 45,
   "metadata": {
    "collapsed": false
   },
   "outputs": [
    {
     "name": "stdout",
     "output_type": "stream",
     "text": [
      "Average Wait 134.00 secs   2 tasks remaining.\n",
      "Average Wait  47.00 secs   0 tasks remaining.\n",
      "Average Wait 116.00 secs   0 tasks remaining.\n",
      "Average Wait 183.00 secs   0 tasks remaining.\n",
      "Average Wait  35.00 secs   0 tasks remaining.\n",
      "Average Wait 148.00 secs   0 tasks remaining.\n",
      "Average Wait 234.00 secs   0 tasks remaining.\n",
      "Average Wait  35.00 secs   0 tasks remaining.\n",
      "Average Wait 207.00 secs   3 tasks remaining.\n",
      "Average Wait  97.00 secs   1 tasks remaining.\n"
     ]
    }
   ],
   "source": [
    "\n",
    "\n",
    "import random\n",
    "\n",
    "class Printer:\n",
    "    def __init__(self, ppm):\n",
    "        self.pagerate = ppm\n",
    "        self.currentTask = None\n",
    "        self.timeRemaining = 0\n",
    "\n",
    "    def tick(self):\n",
    "        if self.currentTask != None:\n",
    "            self.timeRemaining = self.timeRemaining - 1\n",
    "            if self.timeRemaining <= 0:\n",
    "                self.currentTask = None\n",
    "\n",
    "    def busy(self):\n",
    "        if self.currentTask != None:\n",
    "            return True\n",
    "        else:\n",
    "            return False\n",
    "\n",
    "    def startNext(self,newtask):\n",
    "        self.currentTask = newtask\n",
    "        self.timeRemaining = newtask.getPages() * 60/self.pagerate\n",
    "\n",
    "class Task:\n",
    "    def __init__(self,time):\n",
    "        self.timestamp = time\n",
    "        self.pages = random.randrange(1,21)\n",
    "\n",
    "    def getStamp(self):\n",
    "        return self.timestamp\n",
    "\n",
    "    def getPages(self):\n",
    "        return self.pages\n",
    "\n",
    "    def waitTime(self, currenttime):\n",
    "        return currenttime - self.timestamp\n",
    "\n",
    "\n",
    "def simulation(numSeconds, pagesPerMinute):\n",
    "\n",
    "    labprinter = Printer(pagesPerMinute)\n",
    "    printQueue = Queue()\n",
    "    waitingtimes = []\n",
    "\n",
    "    for currentSecond in range(numSeconds):\n",
    "        if newPrintTask():\n",
    "            task = Task(currentSecond)\n",
    "            printQueue.enqueue(task)\n",
    "\n",
    "        if (not labprinter.busy()) and (not printQueue.isEmpty()):\n",
    "            nexttask = printQueue.dequeue()\n",
    "            waitingtimes.append( nexttask.waitTime(currentSecond))\n",
    "            labprinter.startNext(nexttask)\n",
    "\n",
    "        labprinter.tick()\n",
    "\n",
    "    averageWait=sum(waitingtimes)/len(waitingtimes)\n",
    "    print(\"Average Wait %6.2f secs %3d tasks remaining.\"%(averageWait,printQueue.size()))\n",
    "\n",
    "def newPrintTask():\n",
    "    num = random.randrange(1,181)\n",
    "    if num == 180:\n",
    "        return True\n",
    "    else:\n",
    "        return False\n",
    "\n",
    "for i in range(10):\n",
    "    simulation(3600,5)\n"
   ]
  },
  {
   "cell_type": "markdown",
   "metadata": {},
   "source": [
    "# A deque, also known as a double-ended queue"
   ]
  },
  {
   "cell_type": "code",
   "execution_count": 51,
   "metadata": {
    "collapsed": true
   },
   "outputs": [],
   "source": [
    "class deque:\n",
    "    def __init__(self):\n",
    "        self.items = []\n",
    "    def isEmpty(self):\n",
    "        return self.items == []\n",
    "    def addFront(self, item):\n",
    "        self.items.append(item)\n",
    "    def addRear(self, item):\n",
    "        self.items.insert(0, item)\n",
    "    def removeFront(self):\n",
    "        return self.items.pop()\n",
    "    def removeRear(self):\n",
    "        return self.items.pop(0)\n",
    "    def size(self):\n",
    "        return len(self.items)"
   ]
  },
  {
   "cell_type": "markdown",
   "metadata": {},
   "source": [
    "# Palindrome Checker"
   ]
  },
  {
   "cell_type": "code",
   "execution_count": 53,
   "metadata": {
    "collapsed": false
   },
   "outputs": [
    {
     "name": "stdout",
     "output_type": "stream",
     "text": [
      "True\n"
     ]
    }
   ],
   "source": [
    "def PaChecker(string):\n",
    "    deq = deque()\n",
    "    for item in string:\n",
    "        deq.addRear(item)\n",
    "    equal = True\n",
    "    while deq.size() >1 and equal:\n",
    "        f = deq.removeFront()\n",
    "        r = deq.removeRear()\n",
    "        if f != r:\n",
    "            equal = False\n",
    "    return equal\n",
    "print PaChecker(\"radar\")"
   ]
  },
  {
   "cell_type": "markdown",
   "metadata": {},
   "source": [
    "# LinkedList"
   ]
  },
  {
   "cell_type": "code",
   "execution_count": null,
   "metadata": {
    "collapsed": true
   },
   "outputs": [],
   "source": [
    "# unordered\n",
    "class Node:\n",
    "    def __init__(self, val):\n",
    "        self.val = val\n",
    "        self.next = None\n",
    "    def getData(self):\n",
    "        return self.val\n",
    "    def getNext(self):\n",
    "        return self.next\n",
    "    def setData(self, newVal):\n",
    "        self.val = newVal\n",
    "    def setNext(self, newNext):\n",
    "        self.next = newNext\n",
    "class UnorderList:\n",
    "    def __init__(self):\n",
    "        self.head = None\n",
    "    def isEmpty(self):\n",
    "        return self.head == None\n",
    "    def add(self, item):\n",
    "        temp = Node(item)\n",
    "        self.setNext = self.head\n",
    "        self.head = temp\n",
    "    def size(self):\n",
    "        curr = self.head\n",
    "        count = 0\n",
    "        while curr != None:\n",
    "            curr = curr.getNext()\n",
    "            count += 1\n",
    "        return count\n",
    "    def search(self, item):\n",
    "        curr = self.head\n",
    "        while curr != None:\n",
    "            if curr.getData() == item:\n",
    "                return True\n",
    "            curr = curr.getNext()\n",
    "        return False\n",
    "    def remove(self, item):\n",
    "        prev = None\n",
    "        curr = self.head\n",
    "        found = False\n",
    "        while not found:\n",
    "            if curr.getData() ==item:\n",
    "                found = True\n",
    "            else:\n",
    "                prev = curr\n",
    "                curr = curr.getNext()\n",
    "        if prev == None:\n",
    "            self.head = curr.getNext()\n",
    "        else:\n",
    "            prev.setNext(curr.getNext())\n",
    "#ordered\n",
    "class orderList:\n",
    "    def __init__(self):\n",
    "        self.head = None\n",
    "    def isEmpty(self):\n",
    "        return self.head == None\n",
    "    def add(self, item):\n",
    "        prev = None\n",
    "        curr = self.head\n",
    "        stop = False\n",
    "        while curr != None and not stop:\n",
    "            if curr.getData() > item:\n",
    "                stop = True\n",
    "            else:\n",
    "                prev = curr\n",
    "                curr = curr.getNext()\n",
    "        temp = Node(item)\n",
    "        temp.setNext(curr)\n",
    "        if prev == None:\n",
    "            self.head = temp\n",
    "        else:\n",
    "            prev.setNext(temp)\n",
    "    def size(self):\n",
    "        curr = self.head\n",
    "        count = 0\n",
    "        while curr != None:\n",
    "            curr = curr.getNext()\n",
    "            count += 1\n",
    "        return count\n",
    "    def search(self, item):\n",
    "        curr = self.head\n",
    "        while curr != None:\n",
    "            if curr.getData() == item:\n",
    "                return True\n",
    "            curr = curr.getNext()\n",
    "        return False\n",
    "    def remove(self, item):\n",
    "        prev = None\n",
    "        curr = self.head\n",
    "        found = False\n",
    "        while not found:\n",
    "            if curr.getData() ==item:\n",
    "                found = True\n",
    "            else:\n",
    "                prev = curr\n",
    "                curr = curr.getNext()\n",
    "        if prev == None:\n",
    "            self.head = curr.getNext()\n",
    "        else:\n",
    "            prev.setNext(curr.getNext())"
   ]
  },
  {
   "cell_type": "code",
   "execution_count": 97,
   "metadata": {
    "collapsed": false
   },
   "outputs": [
    {
     "name": "stdout",
     "output_type": "stream",
     "text": [
      "Method1: costing 0.000006 s\n",
      "Method2: costing 0.000022 s\n"
     ]
    },
    {
     "data": {
      "text/plain": [
       "-1"
      ]
     },
     "execution_count": 97,
     "metadata": {},
     "output_type": "execute_result"
    }
   ],
   "source": [
    "import time\n",
    "class Solution(object):\n",
    "    def strStr(self, haystack, needle):\n",
    "        \"\"\"\n",
    "        :type haystack: str\n",
    "        :type needle: str\n",
    "        :rtype: int\n",
    "        \"\"\"\n",
    "        t1 = time.time()\n",
    "        for i in xrange(len(haystack) - len(needle) + 1):\n",
    "            if haystack[i:len(needle)+i] == needle:\n",
    "                print \"Method1: costing %f s\"%(time.time()-t1)\n",
    "                return i\n",
    "        print \"Method1: costing %f s\"%(time.time()-t1)\n",
    "        return -1\n",
    "    def strStr2(self, haystack, needle):\n",
    "        t1 = time.time()\n",
    "        if len(needle) > len(haystack):\n",
    "            print \"Method2: costing %f s\"%(time.time()-t1)\n",
    "            return -1\n",
    "        if len(needle) == 0:\n",
    "            print \"Method2: costing %f s\"%(time.time()-t1)\n",
    "            return 0\n",
    "        for i in xrange(len(haystack)):\n",
    "            for j in xrange(len(needle)):\n",
    "                if i+j == len(haystack):\n",
    "                    print \"Method2: costing %f s\"%(time.time()-t1)\n",
    "                    return -1\n",
    "                if haystack[i+j] != needle[j]:\n",
    "                    if i+j == len(haystack)-1:\n",
    "                        print \"Method2: costing %f s\"%(time.time()-t1)\n",
    "                        return -1\n",
    "                    break\n",
    "                else:\n",
    "                    if j == len(needle)-1:\n",
    "                        print \"Method2: costing %f s\"%(time.time()-t1)\n",
    "                        return i\n",
    "            \n",
    "            \n",
    "                \n",
    "obj = Solution()\n",
    "obj.strStr(\"mississippi\",\"abbbbb\")\n",
    "obj.strStr2(\"mississippi\",\"abbbbb\")"
   ]
  },
  {
   "cell_type": "code",
   "execution_count": null,
   "metadata": {
    "collapsed": true
   },
   "outputs": [],
   "source": []
  }
 ],
 "metadata": {
  "kernelspec": {
   "display_name": "Python 2",
   "language": "python",
   "name": "python2"
  },
  "language_info": {
   "codemirror_mode": {
    "name": "ipython",
    "version": 2
   },
   "file_extension": ".py",
   "mimetype": "text/x-python",
   "name": "python",
   "nbconvert_exporter": "python",
   "pygments_lexer": "ipython2",
   "version": "2.7.13"
  }
 },
 "nbformat": 4,
 "nbformat_minor": 0
}
