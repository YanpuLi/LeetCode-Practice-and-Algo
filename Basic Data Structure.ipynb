{
 "cells": [
  {
   "cell_type": "markdown",
   "metadata": {},
   "source": [
    "# Tree"
   ]
  },
  {
   "cell_type": "code",
   "execution_count": null,
   "metadata": {
    "collapsed": true
   },
   "outputs": [],
   "source": [
    "'''\n",
    "Inorder print a BT\n",
    "using stack, push root and all its left child into stack, if no leftchild, then pop stack, then go through all right child\n",
    "\n",
    "'''\n",
    "class TreeNode(object):\n",
    "     def __init__(self, x):\n",
    "            self.val = x\n",
    "            self.left = None\n",
    "            self.right = None\n",
    "\n",
    "class Solution(object):\n",
    "    def inorderTraversal(self, root):\n",
    "        \"\"\"\n",
    "        :type root: TreeNode\n",
    "        :rtype: List[int]\n",
    "        \"\"\"\n",
    "        result = []\n",
    "        stack = []\n",
    "        p = root\n",
    "        while p or stack:\n",
    "            # Save the nodes which have left child\n",
    "            while p:\n",
    "                stack.append(p)\n",
    "                p = p.left\n",
    "            if stack:\n",
    "                p = stack.pop()\n",
    "                # Visit the middle node\n",
    "                result.append(p.val)\n",
    "                # Visit the right subtree\n",
    "                p = p.right\n",
    "        return result\n",
    "    '''\n",
    "    given inorder of a BST, the value of the sequence must be increasing\n",
    "    '''\n",
    "    def isValidBST(self, root):\n",
    "        curr = root\n",
    "        prev = None\n",
    "        stack = []\n",
    "        while curr or stack:\n",
    "            while curr:\n",
    "                stack.append(curr)\n",
    "                curr = curr.left\n",
    "                \n",
    "            if stack:\n",
    "                curr = stack.pop()\n",
    "                if prev and prev.val >= curr.val:\n",
    "                    return False\n",
    "                prev = curr\n",
    "                curr = curr.right\n",
    "        return True\n",
    "    "
   ]
  },
  {
   "cell_type": "markdown",
   "metadata": {},
   "source": [
    "# Stack"
   ]
  },
  {
   "cell_type": "code",
   "execution_count": 16,
   "metadata": {
    "collapsed": true
   },
   "outputs": [],
   "source": [
    "class Stack:\n",
    "    def __init__(self):\n",
    "        self.items = []\n",
    "    def isEmpty(self):\n",
    "        return self.items == []\n",
    "    def push(self, item):\n",
    "        self.items.append(item)\n",
    "    def pop(self):\n",
    "        return self.items.pop()\n",
    "    def peek(self):\n",
    "        return self.items[len(self.items)-1]\n",
    "    def size(self):\n",
    "        return len(self.items)"
   ]
  },
  {
   "cell_type": "code",
   "execution_count": 17,
   "metadata": {
    "collapsed": false
   },
   "outputs": [
    {
     "name": "stdout",
     "output_type": "stream",
     "text": [
      "False\n"
     ]
    }
   ],
   "source": [
    "def checkParenthese(string):\n",
    "    stack = Stack()\n",
    "    balanced = True\n",
    "    index = 0\n",
    "    while index < len(string) and balanced:\n",
    "        symbol = string[index]\n",
    "        index += 1\n",
    "        if symbol ==\"(\":\n",
    "            stack.push(symbol)\n",
    "        elif stack.isEmpty():\n",
    "            balanced = False\n",
    "        else:\n",
    "            stack.pop()\n",
    "    if stack.isEmpty() and balanced:\n",
    "        return True\n",
    "    else:\n",
    "        return False\n",
    "print checkParenthese(\"(((())))(()\")"
   ]
  },
  {
   "cell_type": "code",
   "execution_count": 39,
   "metadata": {
    "collapsed": false
   },
   "outputs": [
    {
     "name": "stdout",
     "output_type": "stream",
     "text": [
      "100\n"
     ]
    }
   ],
   "source": [
    "def decimalToBinary(num):\n",
    "    s = Stack()\n",
    "    while num>0:\n",
    "        digit = num%2\n",
    "        s.push(digit)\n",
    "        num = num //2\n",
    "    binString = \"\"\n",
    "    while not s.isEmpty():\n",
    "        binString = binString + str(s.peek())\n",
    "        s.pop()\n",
    "\n",
    "    return binString\n",
    "\n",
    "print decimalToBinary(4)"
   ]
  },
  {
   "cell_type": "code",
   "execution_count": 40,
   "metadata": {
    "collapsed": false
   },
   "outputs": [],
   "source": [
    "class Queue:\n",
    "    def __init__(self):\n",
    "        self.items = []\n",
    "    def isEmpty(self):\n",
    "        return self.items == []\n",
    "# add to rear\n",
    "    def enqueue(self, item):\n",
    "        self.items.insert(0,item)\n",
    "# pop front \n",
    "    def dequeue(self):\n",
    "        return self.items.pop()\n",
    "\n",
    "    def size(self):\n",
    "        return len(self.items)"
   ]
  },
  {
   "cell_type": "markdown",
   "metadata": {},
   "source": [
    "# Waiting time estimate for printing task"
   ]
  },
  {
   "cell_type": "code",
   "execution_count": 45,
   "metadata": {
    "collapsed": false
   },
   "outputs": [
    {
     "name": "stdout",
     "output_type": "stream",
     "text": [
      "Average Wait 134.00 secs   2 tasks remaining.\n",
      "Average Wait  47.00 secs   0 tasks remaining.\n",
      "Average Wait 116.00 secs   0 tasks remaining.\n",
      "Average Wait 183.00 secs   0 tasks remaining.\n",
      "Average Wait  35.00 secs   0 tasks remaining.\n",
      "Average Wait 148.00 secs   0 tasks remaining.\n",
      "Average Wait 234.00 secs   0 tasks remaining.\n",
      "Average Wait  35.00 secs   0 tasks remaining.\n",
      "Average Wait 207.00 secs   3 tasks remaining.\n",
      "Average Wait  97.00 secs   1 tasks remaining.\n"
     ]
    }
   ],
   "source": [
    "\n",
    "\n",
    "import random\n",
    "\n",
    "class Printer:\n",
    "    def __init__(self, ppm):\n",
    "        self.pagerate = ppm\n",
    "        self.currentTask = None\n",
    "        self.timeRemaining = 0\n",
    "\n",
    "    def tick(self):\n",
    "        if self.currentTask != None:\n",
    "            self.timeRemaining = self.timeRemaining - 1\n",
    "            if self.timeRemaining <= 0:\n",
    "                self.currentTask = None\n",
    "\n",
    "    def busy(self):\n",
    "        if self.currentTask != None:\n",
    "            return True\n",
    "        else:\n",
    "            return False\n",
    "\n",
    "    def startNext(self,newtask):\n",
    "        self.currentTask = newtask\n",
    "        self.timeRemaining = newtask.getPages() * 60/self.pagerate\n",
    "\n",
    "class Task:\n",
    "    def __init__(self,time):\n",
    "        self.timestamp = time\n",
    "        self.pages = random.randrange(1,21)\n",
    "\n",
    "    def getStamp(self):\n",
    "        return self.timestamp\n",
    "\n",
    "    def getPages(self):\n",
    "        return self.pages\n",
    "\n",
    "    def waitTime(self, currenttime):\n",
    "        return currenttime - self.timestamp\n",
    "\n",
    "\n",
    "def simulation(numSeconds, pagesPerMinute):\n",
    "\n",
    "    labprinter = Printer(pagesPerMinute)\n",
    "    printQueue = Queue()\n",
    "    waitingtimes = []\n",
    "\n",
    "    for currentSecond in range(numSeconds):\n",
    "        if newPrintTask():\n",
    "            task = Task(currentSecond)\n",
    "            printQueue.enqueue(task)\n",
    "\n",
    "        if (not labprinter.busy()) and (not printQueue.isEmpty()):\n",
    "            nexttask = printQueue.dequeue()\n",
    "            waitingtimes.append( nexttask.waitTime(currentSecond))\n",
    "            labprinter.startNext(nexttask)\n",
    "\n",
    "        labprinter.tick()\n",
    "\n",
    "    averageWait=sum(waitingtimes)/len(waitingtimes)\n",
    "    print(\"Average Wait %6.2f secs %3d tasks remaining.\"%(averageWait,printQueue.size()))\n",
    "\n",
    "def newPrintTask():\n",
    "    num = random.randrange(1,181)\n",
    "    if num == 180:\n",
    "        return True\n",
    "    else:\n",
    "        return False\n",
    "\n",
    "for i in range(10):\n",
    "    simulation(3600,5)\n"
   ]
  },
  {
   "cell_type": "markdown",
   "metadata": {},
   "source": [
    "# A deque, also known as a double-ended queue"
   ]
  },
  {
   "cell_type": "code",
   "execution_count": 51,
   "metadata": {
    "collapsed": true
   },
   "outputs": [],
   "source": [
    "class deque:\n",
    "    def __init__(self):\n",
    "        self.items = []\n",
    "    def isEmpty(self):\n",
    "        return self.items == []\n",
    "    def addFront(self, item):\n",
    "        self.items.append(item)\n",
    "    def addRear(self, item):\n",
    "        self.items.insert(0, item)\n",
    "    def removeFront(self):\n",
    "        return self.items.pop()\n",
    "    def removeRear(self):\n",
    "        return self.items.pop(0)\n",
    "    def size(self):\n",
    "        return len(self.items)"
   ]
  },
  {
   "cell_type": "markdown",
   "metadata": {},
   "source": [
    "# Palindrome Checker"
   ]
  },
  {
   "cell_type": "code",
   "execution_count": 53,
   "metadata": {
    "collapsed": false
   },
   "outputs": [
    {
     "name": "stdout",
     "output_type": "stream",
     "text": [
      "True\n"
     ]
    }
   ],
   "source": [
    "def PaChecker(string):\n",
    "    deq = deque()\n",
    "    for item in string:\n",
    "        deq.addRear(item)\n",
    "    equal = True\n",
    "    while deq.size() >1 and equal:\n",
    "        f = deq.removeFront()\n",
    "        r = deq.removeRear()\n",
    "        if f != r:\n",
    "            equal = False\n",
    "    return equal\n",
    "print PaChecker(\"radar\")"
   ]
  },
  {
   "cell_type": "markdown",
   "metadata": {},
   "source": [
    "# LinkedList"
   ]
  },
  {
   "cell_type": "code",
   "execution_count": 4,
   "metadata": {
    "collapsed": true
   },
   "outputs": [],
   "source": [
    "# unordered\n",
    "class Node:\n",
    "    def __init__(self, val):\n",
    "        self.val = val\n",
    "        self.next = None\n",
    "    def getData(self):\n",
    "        return self.val\n",
    "    def getNext(self):\n",
    "        return self.next\n",
    "\n",
    "class UnorderList:\n",
    "    def __init__(self):\n",
    "        self.head = None\n",
    "        \n",
    "    def isEmpty(self):\n",
    "        return self.head == None\n",
    "    \n",
    "    def add(self, item):\n",
    "        temp = Node(item)\n",
    "        temp.next = self.head\n",
    "        self.head = temp\n",
    "        \n",
    "    def size(self):\n",
    "        curr = self.head\n",
    "        count = 0\n",
    "        while curr != None:\n",
    "            curr = curr.next\n",
    "            count += 1\n",
    "        return count\n",
    "    \n",
    "    def search(self, item):\n",
    "        curr = self.head\n",
    "        while curr != None:\n",
    "            if curr.val == item:\n",
    "                return True\n",
    "            curr = curr.next\n",
    "        return False\n",
    "    def remove(self, item):\n",
    "        prev = None\n",
    "        curr = self.head\n",
    "        found = False\n",
    "        while not found:\n",
    "            if curr.val ==item:\n",
    "                found = True\n",
    "            else:\n",
    "                prev = curr\n",
    "                curr = curr.next\n",
    "        if prev == None:\n",
    "            self.head = curr.next\n",
    "        else:\n",
    "            prev.setNext(curr.next)\n",
    "    def printList(self):\n",
    "        node = self.head\n",
    "        while node != None:\n",
    "            print node.val\n",
    "            node = node.next\n",
    "#ordered\n",
    "class orderList:\n",
    "    def __init__(self):\n",
    "        self.head = None\n",
    "    def isEmpty(self):\n",
    "        return self.head == None\n",
    "    def add(self, item):\n",
    "        prev = None\n",
    "        curr = self.head\n",
    "        stop = False\n",
    "        while curr != None and not stop:\n",
    "            if curr.getData() > item:\n",
    "                stop = True\n",
    "            else:\n",
    "                prev = curr\n",
    "                curr = curr.getNext()\n",
    "        temp = Node(item)\n",
    "        temp.setNext(curr)\n",
    "        if prev == None:\n",
    "            self.head = temp\n",
    "        else:\n",
    "            prev.setNext(temp)\n",
    "    def size(self):\n",
    "        curr = self.head\n",
    "        count = 0\n",
    "        while curr != None:\n",
    "            curr = curr.getNext()\n",
    "            count += 1\n",
    "        return count\n",
    "    def search(self, item):\n",
    "        curr = self.head\n",
    "        while curr != None:\n",
    "            if curr.getData() == item:\n",
    "                return True\n",
    "            curr = curr.getNext()\n",
    "        return False\n",
    "    def remove(self, item):\n",
    "        prev = None\n",
    "        curr = self.head\n",
    "        found = False\n",
    "        while not found:\n",
    "            if curr.getData() ==item:\n",
    "                found = True\n",
    "            else:\n",
    "                prev = curr\n",
    "                curr = curr.getNext()\n",
    "        if prev == None:\n",
    "            self.head = curr.getNext()\n",
    "        else:\n",
    "            prev.setNext(curr.getNext())\n",
    "\n",
    "            \n",
    "def reverseList(head):\n",
    "    curr = head.next\n",
    "    head = None\n",
    "    while curr:\n",
    "        next, curr.next = curr.next, head\n",
    "        head, curr = curr, next\n",
    "    return head\n",
    "        \n",
    "    "
   ]
  },
  {
   "cell_type": "code",
   "execution_count": 5,
   "metadata": {
    "collapsed": false
   },
   "outputs": [
    {
     "name": "stdout",
     "output_type": "stream",
     "text": [
      "5\n",
      "4\n",
      "3\n",
      "2\n",
      "1\n"
     ]
    }
   ],
   "source": [
    "l1 = UnorderList()\n",
    "l1.add(1)\n",
    "l1.add(2)\n",
    "l1.add(3)\n",
    "l1.add(4)\n",
    "l1.add(5)\n",
    "l1.printList()\n",
    "\n",
    "def removeElements(head, val):\n",
    "        \"\"\"\n",
    "        :type head: ListNode\n",
    "        :type val: int\n",
    "        :rtype: ListNode\n",
    "        \"\"\"\n",
    "        if head == None: return None\n",
    "        \n",
    "        curr = head\n",
    "        prev = head\n",
    "        while curr:\n",
    "            if curr.val == val:\n",
    "                prev.next = curr.next\n",
    "            prev = curr\n",
    "            curr = curr.next\n",
    "        return head"
   ]
  },
  {
   "cell_type": "code",
   "execution_count": 76,
   "metadata": {
    "collapsed": false
   },
   "outputs": [
    {
     "data": {
      "text/plain": [
       "False"
      ]
     },
     "execution_count": 76,
     "metadata": {},
     "output_type": "execute_result"
    }
   ],
   "source": [
    "'''\n",
    "remove list element\n",
    "'''\n",
    "a = [1,2,3,4,5]\n",
    "#remove by value\n",
    "a.remove(1) \n",
    "#pop by index, default last one\n",
    "a.pop() \n",
    "#by index\n",
    "del a[0]"
   ]
  },
  {
   "cell_type": "code",
   "execution_count": 20,
   "metadata": {
    "collapsed": false
   },
   "outputs": [
    {
     "data": {
      "text/plain": [
       "['red']"
      ]
     },
     "execution_count": 20,
     "metadata": {},
     "output_type": "execute_result"
    }
   ],
   "source": [
    "class color:\n",
    "    def __init__(self):\n",
    "        self.name = ''\n",
    "    def setn(self, s):\n",
    "        self.name = s\n",
    "    def getn(self):\n",
    "        return self.name\n",
    "    def NonblueList(self):\n",
    "        l = []\n",
    "        if self.getn() != 'blue':\n",
    "            l.append(self.getn())\n",
    "        return l\n",
    "obj = color()\n",
    "obj.setn('blue')\n",
    "obj.setn('red')\n",
    "obj.NonblueList()"
   ]
  },
  {
   "cell_type": "code",
   "execution_count": 13,
   "metadata": {
    "collapsed": false
   },
   "outputs": [
    {
     "name": "stdout",
     "output_type": "stream",
     "text": [
      "['__doc__', '__init__', '__module__', 'element1']\n",
      "--\n",
      "['__doc__', '__init__', '__module__', 'element1', 'element2']\n",
      "--\n",
      "Hello\n",
      "World\n",
      "Hello\n"
     ]
    }
   ],
   "source": [
    "#variable belong to a class, belong to an object\n",
    "class MyClass:\n",
    "    element1 = \"Hello\"\n",
    "\n",
    "    def __init__(self):\n",
    "        self.element2 = \"World\"\n",
    "\n",
    "obj = MyClass()\n",
    "\n",
    "print dir(MyClass)\n",
    "print \"--\"\n",
    "print dir(obj)\n",
    "print \"--\"\n",
    "print obj.element1 \n",
    "print obj.element2\n",
    "print MyClass.element1"
   ]
  },
  {
   "cell_type": "code",
   "execution_count": 54,
   "metadata": {
    "collapsed": false
   },
   "outputs": [
    {
     "data": {
      "text/plain": [
       "[]"
      ]
     },
     "execution_count": 54,
     "metadata": {},
     "output_type": "execute_result"
    }
   ],
   "source": [
    "\"\"\"Softmax.\"\"\"\n",
    "\n",
    "scores = [3.0, 1.0, 0.2]\n",
    "\n",
    "import numpy as np\n",
    "\n",
    "def softmax(x):\n",
    "    \"\"\"Compute softmax values for each sets of scores in x.\"\"\"\n",
    "    total = 0\n",
    "    for i in x:\n",
    "        total +=i\n",
    "    for i in x:\n",
    "        i = i/total\n",
    "    pass  # TODO: Compute and return softmax(x)\n",
    "\n",
    "\n",
    "print(softmax(scores))\n",
    "\n",
    "# Plot softmax curves\n",
    "import matplotlib.pyplot as plt\n",
    "x = np.arange(-2.0, 6.0, 0.1)\n",
    "scores = np.vstack([x, np.ones_like(x), 0.2 * np.ones_like(x)])\n",
    "print scores\n",
    "plt.plot(x, softmax(scores).T, linewidth=2)\n",
    "plt.show()"
   ]
  },
  {
   "cell_type": "code",
   "execution_count": 6,
   "metadata": {
    "collapsed": false
   },
   "outputs": [
    {
     "data": {
      "text/plain": [
       "{5, 6}"
      ]
     },
     "execution_count": 6,
     "metadata": {},
     "output_type": "execute_result"
    }
   ],
   "source": [
    "a = [4,3,2,7,8,2,3,1]\n",
    "a1 = list(set(a))\n",
    "s = []\n",
    "for i in range(len(a)):\n",
    "    s.append(i+1)\n",
    "set(s) -set(a1)"
   ]
  },
  {
   "cell_type": "code",
   "execution_count": 4,
   "metadata": {
    "collapsed": false
   },
   "outputs": [
    {
     "data": {
      "text/plain": [
       "97"
      ]
     },
     "execution_count": 4,
     "metadata": {},
     "output_type": "execute_result"
    }
   ],
   "source": [
    "ord('a')"
   ]
  },
  {
   "cell_type": "code",
   "execution_count": 1,
   "metadata": {
    "collapsed": true
   },
   "outputs": [],
   "source": [
    "class phone(object):\n",
    "    def __init__(self):\n",
    "        self.pool = []\n",
    "    def get(self, nums):\n",
    "        self.pool = nums\n",
    "    def printN(self):\n",
    "        print len(self.pool)"
   ]
  },
  {
   "cell_type": "code",
   "execution_count": 2,
   "metadata": {
    "collapsed": false
   },
   "outputs": [
    {
     "name": "stdout",
     "output_type": "stream",
     "text": [
      "3\n"
     ]
    }
   ],
   "source": [
    "a = [1,2,3]\n",
    "phone()\n",
    "phone().get(a)\n",
    "phone().printN()"
   ]
  },
  {
   "cell_type": "code",
   "execution_count": 8,
   "metadata": {
    "collapsed": false
   },
   "outputs": [],
   "source": [
    "b = phone().get(a)"
   ]
  },
  {
   "cell_type": "code",
   "execution_count": 4,
   "metadata": {
    "collapsed": true
   },
   "outputs": [],
   "source": []
  },
  {
   "cell_type": "code",
   "execution_count": 6,
   "metadata": {
    "collapsed": false
   },
   "outputs": [
    {
     "ename": "AttributeError",
     "evalue": "'NoneType' object has no attribute 'printN'",
     "output_type": "error",
     "traceback": [
      "\u001b[0;31m---------------------------------------------------------------------------\u001b[0m",
      "\u001b[0;31mAttributeError\u001b[0m                            Traceback (most recent call last)",
      "\u001b[0;32m<ipython-input-6-6ecdc1230dea>\u001b[0m in \u001b[0;36m<module>\u001b[0;34m()\u001b[0m\n\u001b[0;32m----> 1\u001b[0;31m \u001b[0mb\u001b[0m\u001b[0;34m.\u001b[0m\u001b[0mprintN\u001b[0m\u001b[0;34m(\u001b[0m\u001b[0;34m)\u001b[0m\u001b[0;34m\u001b[0m\u001b[0m\n\u001b[0m",
      "\u001b[0;31mAttributeError\u001b[0m: 'NoneType' object has no attribute 'printN'"
     ]
    }
   ],
   "source": [
    "b.printN()"
   ]
  },
  {
   "cell_type": "code",
   "execution_count": 1,
   "metadata": {
    "collapsed": true
   },
   "outputs": [],
   "source": [
    "class Solution(object):\n",
    "    def isIsomorphic(self, s, t):\n",
    "        \"\"\"\n",
    "        :type s: str\n",
    "        :type t: str\n",
    "        :rtype: bool\n",
    "        change s, t into dictionary,\n",
    "        then compare the values()\n",
    "        \"\"\"\n",
    "        \n",
    "        if len(s) != len(t): return False\n",
    "        dicS = {}\n",
    "        for i in xrange(len(s)):\n",
    "            if s[i] not in dicS:\n",
    "                dicS[s[i]] = [i]\n",
    "            else:\n",
    "                dicS[s[i]].append(i)\n",
    "        dicT = {}\n",
    "        for j in xrange(len(t)):\n",
    "            if t[j] not in dicT:\n",
    "                dicT[t[j]] = [j]\n",
    "            else:\n",
    "                dicT[t[j]].append(j)\n",
    "        if len(dicS.values()) == len(dicT.values()):\n",
    "            if len(filter(lambda x: x not in dicT.values(), dicS.values())) == 0:\n",
    "                return True\n",
    "        return False"
   ]
  },
  {
   "cell_type": "code",
   "execution_count": null,
   "metadata": {
    "collapsed": true
   },
   "outputs": [],
   "source": [
    "class Solution(object):\n",
    "    def reverseList(self, head):\n",
    "        \"\"\"\n",
    "        :type head: ListNode\n",
    "        :rtype: ListNode\n",
    "        \"\"\"\n",
    "        if head == None or head.next == None: return head\n",
    "        front = head\n",
    "        mid = None\n",
    "        last = None\n",
    "        while front.next!= None:\n",
    "            mid = front\n",
    "            front = front.next\n",
    "            mid.next = last\n",
    "            last = mid\n",
    "        front.next = mid\n",
    "        return front\n",
    "    def reverseList(self, head):\n",
    "        curt = None\n",
    "        while head !=None:\n",
    "            temp = head.next\n",
    "            head.next = curt\n",
    "            curt = head\n",
    "            head = temp\n",
    "        return curt\n",
    "class Solution(object):\n",
    "    def reverseList(self, head):\n",
    "        \"\"\"\n",
    "        :type head: ListNode\n",
    "        :rtype: ListNode\n",
    "        \"\"\"\n",
    "        if head == None or head.next == None: return head\n",
    "        last = head.next\n",
    "        result = self.reverseList(last)\n",
    "        head.next = None\n",
    "        last.next = head\n",
    "        return result\n",
    "class Solution:\n",
    "    # @param {ListNode} head\n",
    "    # @return {ListNode}\n",
    "    def reverseList(self, head):\n",
    "        return self._reverse(head)\n",
    "        \n",
    "    def _reverse(self, node, prev = None):\n",
    "        if not node:\n",
    "            return prev\n",
    "        \n",
    "        n = node.next\n",
    "        node.next = prev\n",
    "        prev = node\n",
    "        return self._reverse(n, node)\n",
    "class Solution(object):\n",
    "    def reverseList(self, head):\n",
    "        \"\"\"\n",
    "        :type head: ListNode\n",
    "        :rtype: ListNode\n",
    "        \"\"\"\n",
    "        if head == None or head.next == None: return head\n",
    "        last = head.next\n",
    "        result = self.reverseList(last)\n",
    "        head.next = None\n",
    "        last.next = head\n",
    "        return result"
   ]
  },
  {
   "cell_type": "code",
   "execution_count": 1,
   "metadata": {
    "collapsed": true
   },
   "outputs": [],
   "source": [
    "class stack:\n",
    "\tdef __init__(self):\n",
    "\t\tself.items = []\n",
    "\tdef isEmpty(self):\n",
    "\t\treturn self.items == []\n",
    "\tdef push(self, item):\n",
    "\t\tself.items.append(item)\n",
    "\tdef pop(self):\n",
    "\t\treturn self.items.pop()\n",
    "\tdef peek(self):\n",
    "\t\treturn self.items[len(self.items)-1]"
   ]
  },
  {
   "cell_type": "code",
   "execution_count": 21,
   "metadata": {
    "collapsed": true
   },
   "outputs": [],
   "source": [
    "\n",
    "def parChecker(s1):\n",
    "    st = stack()\n",
    "    index = 0 \n",
    "    balance = True\n",
    "    while index <len(s1) and balance:\n",
    "        if s1[index] == '(':\n",
    "            st.push(s1[index])\n",
    "        else:\n",
    "            if st.isEmpty() == True:\n",
    "                balance = False\n",
    "            else:\n",
    "                st.pop()\n",
    "        index = index + 1\n",
    "    if balance and st.isEmpty():\n",
    "        return True\n",
    "    else:\n",
    "        return False"
   ]
  },
  {
   "cell_type": "code",
   "execution_count": 39,
   "metadata": {
    "collapsed": false
   },
   "outputs": [
    {
     "data": {
      "text/plain": [
       "False"
      ]
     },
     "execution_count": 39,
     "metadata": {},
     "output_type": "execute_result"
    }
   ],
   "source": [
    "def match(p1, p2):\n",
    "    l = '[{('\n",
    "    r = ']})'   \n",
    "    return l.index(p1) == r.index(p2)\n",
    "\n",
    "def parChecker2(s2):\n",
    "    index = 0 \n",
    "    balance = True\n",
    "    st2 = stack()\n",
    "    while index < len(s2) and balance:\n",
    "        if s2[index] in '([{':\n",
    "            st2.push(s2[index])\n",
    "        else:\n",
    "            if st2.isEmpty():\n",
    "                balance = False\n",
    "            else:\n",
    "                balance = match(st2.pop(), s2[index])\n",
    "        index = index +1\n",
    "    if balance and st2.isEmpty():\n",
    "        return True\n",
    "    else:\n",
    "        return False\n",
    "\n",
    "parChecker2('[{(]]')"
   ]
  },
  {
   "cell_type": "code",
   "execution_count": 40,
   "metadata": {
    "collapsed": false
   },
   "outputs": [
    {
     "data": {
      "text/plain": [
       "'101010'"
      ]
     },
     "execution_count": 40,
     "metadata": {},
     "output_type": "execute_result"
    }
   ],
   "source": [
    "def decimalTobinary(num):\n",
    "    st = stack()\n",
    "    while num >0:\n",
    "        st.push(num%2)\n",
    "        num = num //2\n",
    "    binary = ''\n",
    "    while not st.isEmpty():\n",
    "        binary = binary + str(st.pop())\n",
    "    return binary\n",
    "decimalTobinary(42)"
   ]
  },
  {
   "cell_type": "code",
   "execution_count": 14,
   "metadata": {
    "collapsed": false
   },
   "outputs": [
    {
     "name": "stdout",
     "output_type": "stream",
     "text": [
      "6\n",
      "37.834388\n"
     ]
    }
   ],
   "source": [
    "import time\n",
    "start = time.clock()\n",
    "def recDC(coinList, change):\n",
    "\tminCoins = change\n",
    "\tif change in coinList:\n",
    "\t\treturn 1\n",
    "\telse:\n",
    "\t\tfor i in [ c for c in coinList if c <= change]:\n",
    "\t\t\tnumCoins = 1 + recDC(coinList, change - i)\n",
    "\t\t\tif numCoins < minCoins:\n",
    "\t\t\t\tminCoins = numCoins\n",
    "\treturn minCoins\n",
    "print(recDC([1,5,10,25],63))\n",
    "print (time.clock()-start)"
   ]
  },
  {
   "cell_type": "code",
   "execution_count": 33,
   "metadata": {
    "collapsed": false
   },
   "outputs": [
    {
     "name": "stdout",
     "output_type": "stream",
     "text": [
      "[17, 20, 26, 31, 44, 54, 55, 77, 93]\n"
     ]
    }
   ],
   "source": [
    "def insert(l):\n",
    "    for i in range(1, len(l)):\n",
    "        val = l[i]\n",
    "        pos = i\n",
    "        while pos >0 and val < l[pos-1]:\n",
    "            l[pos]=l[pos-1]\n",
    "            pos = pos -1\n",
    "        l[pos] = val\n",
    "alist = [54,26,93,17,77,31,44,55,20]\n",
    "insert(alist)\n",
    "print(alist)"
   ]
  },
  {
   "cell_type": "code",
   "execution_count": 36,
   "metadata": {
    "collapsed": false
   },
   "outputs": [
    {
     "data": {
      "text/plain": [
       "8"
      ]
     },
     "execution_count": 36,
     "metadata": {},
     "output_type": "execute_result"
    }
   ],
   "source": [
    "1<<3"
   ]
  }
 ],
 "metadata": {
  "kernelspec": {
   "display_name": "Python 2",
   "language": "python",
   "name": "python2"
  },
  "language_info": {
   "codemirror_mode": {
    "name": "ipython",
    "version": 2
   },
   "file_extension": ".py",
   "mimetype": "text/x-python",
   "name": "python",
   "nbconvert_exporter": "python",
   "pygments_lexer": "ipython2",
   "version": "2.7.13"
  }
 },
 "nbformat": 4,
 "nbformat_minor": 0
}
