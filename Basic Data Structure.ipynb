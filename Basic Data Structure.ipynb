{
 "cells": [
  {
   "cell_type": "markdown",
   "metadata": {},
   "source": [
    "# Tree"
   ]
  },
  {
   "cell_type": "code",
   "execution_count": null,
   "metadata": {
    "collapsed": true
   },
   "outputs": [],
   "source": [
    "'''\n",
    "Inorder print a BT\n",
    "using stack, push root and all its left child into stack, if no leftchild, then pop stack, then go through all right child\n",
    "\n",
    "'''\n",
    "class TreeNode(object):\n",
    "     def __init__(self, x):\n",
    "            self.val = x\n",
    "            self.left = None\n",
    "            self.right = None\n",
    "\n",
    "class Solution(object):\n",
    "    def inorderTraversal(self, root):\n",
    "        \"\"\"\n",
    "        :type root: TreeNode\n",
    "        :rtype: List[int]\n",
    "        \"\"\"\n",
    "        result = []\n",
    "        stack = []\n",
    "        p = root\n",
    "        while p or stack:\n",
    "            # Save the nodes which have left child\n",
    "            while p:\n",
    "                stack.append(p)\n",
    "                p = p.left\n",
    "            if stack:\n",
    "                p = stack.pop()\n",
    "                # Visit the middle node\n",
    "                result.append(p.val)\n",
    "                # Visit the right subtree\n",
    "                p = p.right\n",
    "        return result\n",
    "    '''\n",
    "    given inorder of a BST, the value of the sequence must be increasing\n",
    "    '''\n",
    "    def isValidBST(self, root):\n",
    "        curr = root\n",
    "        prev = None\n",
    "        stack = []\n",
    "        while curr or stack:\n",
    "            while curr:\n",
    "                stack.append(curr)\n",
    "                curr = curr.left\n",
    "                \n",
    "            if stack:\n",
    "                curr = stack.pop()\n",
    "                if prev and prev.val >= curr.val:\n",
    "                    return False\n",
    "                prev = curr\n",
    "                curr = curr.right\n",
    "        return True\n",
    "    "
   ]
  },
  {
   "cell_type": "markdown",
   "metadata": {},
   "source": [
    "# Stack"
   ]
  },
  {
   "cell_type": "code",
   "execution_count": 2,
   "metadata": {
    "collapsed": true
   },
   "outputs": [],
   "source": [
    "class Stack:\n",
    "    def __init__(self):\n",
    "        self.items = []\n",
    "    def isEmpty(self):\n",
    "        return self.items == []\n",
    "    def push(self, item):\n",
    "        self.items.append(item)\n",
    "    def pop(self):\n",
    "        return self.items.pop()\n",
    "    def peek(self):\n",
    "        return self.items[len(self.items)-1]\n",
    "    def size(self):\n",
    "        return len(self.items)"
   ]
  },
  {
   "cell_type": "code",
   "execution_count": 6,
   "metadata": {
    "collapsed": false
   },
   "outputs": [
    {
     "name": "stdout",
     "output_type": "stream",
     "text": [
      "False\n"
     ]
    }
   ],
   "source": [
    "def checkParenthese(string):\n",
    "    stack = Stack()\n",
    "    balanced = True\n",
    "    index = 0\n",
    "    while index < len(string) and balanced:\n",
    "        symbol = string[index]\n",
    "        index += 1\n",
    "        if symbol ==\"(\":\n",
    "            stack.push(symbol)\n",
    "        elif stack.isEmpty():\n",
    "            balanced = False\n",
    "        else:\n",
    "            stack.pop()\n",
    "    if stack.isEmpty() and balanced:\n",
    "        return True\n",
    "    else:\n",
    "        return False\n",
    "print checkParenthese(\"(((())))(()\")"
   ]
  },
  {
   "cell_type": "code",
   "execution_count": 39,
   "metadata": {
    "collapsed": false
   },
   "outputs": [
    {
     "name": "stdout",
     "output_type": "stream",
     "text": [
      "100\n"
     ]
    }
   ],
   "source": [
    "def decimalToBinary(num):\n",
    "    s = Stack()\n",
    "    while num>0:\n",
    "        digit = num%2\n",
    "        s.push(digit)\n",
    "        num = num //2\n",
    "    binString = \"\"\n",
    "    while not s.isEmpty():\n",
    "        binString = binString + str(s.peek())\n",
    "        s.pop()\n",
    "\n",
    "    return binString\n",
    "\n",
    "print decimalToBinary(4)"
   ]
  },
  {
   "cell_type": "code",
   "execution_count": 40,
   "metadata": {
    "collapsed": false
   },
   "outputs": [],
   "source": [
    "class Queue:\n",
    "    def __init__(self):\n",
    "        self.items = []\n",
    "    def isEmpty(self):\n",
    "        return self.items == []\n",
    "# add to rear\n",
    "    def enqueue(self, item):\n",
    "        self.items.insert(0,item)\n",
    "# pop front \n",
    "    def dequeue(self):\n",
    "        return self.items.pop()\n",
    "\n",
    "    def size(self):\n",
    "        return len(self.items)"
   ]
  },
  {
   "cell_type": "markdown",
   "metadata": {},
   "source": [
    "# Waiting time estimate for printing task"
   ]
  },
  {
   "cell_type": "code",
   "execution_count": 45,
   "metadata": {
    "collapsed": false
   },
   "outputs": [
    {
     "name": "stdout",
     "output_type": "stream",
     "text": [
      "Average Wait 134.00 secs   2 tasks remaining.\n",
      "Average Wait  47.00 secs   0 tasks remaining.\n",
      "Average Wait 116.00 secs   0 tasks remaining.\n",
      "Average Wait 183.00 secs   0 tasks remaining.\n",
      "Average Wait  35.00 secs   0 tasks remaining.\n",
      "Average Wait 148.00 secs   0 tasks remaining.\n",
      "Average Wait 234.00 secs   0 tasks remaining.\n",
      "Average Wait  35.00 secs   0 tasks remaining.\n",
      "Average Wait 207.00 secs   3 tasks remaining.\n",
      "Average Wait  97.00 secs   1 tasks remaining.\n"
     ]
    }
   ],
   "source": [
    "\n",
    "\n",
    "import random\n",
    "\n",
    "class Printer:\n",
    "    def __init__(self, ppm):\n",
    "        self.pagerate = ppm\n",
    "        self.currentTask = None\n",
    "        self.timeRemaining = 0\n",
    "\n",
    "    def tick(self):\n",
    "        if self.currentTask != None:\n",
    "            self.timeRemaining = self.timeRemaining - 1\n",
    "            if self.timeRemaining <= 0:\n",
    "                self.currentTask = None\n",
    "\n",
    "    def busy(self):\n",
    "        if self.currentTask != None:\n",
    "            return True\n",
    "        else:\n",
    "            return False\n",
    "\n",
    "    def startNext(self,newtask):\n",
    "        self.currentTask = newtask\n",
    "        self.timeRemaining = newtask.getPages() * 60/self.pagerate\n",
    "\n",
    "class Task:\n",
    "    def __init__(self,time):\n",
    "        self.timestamp = time\n",
    "        self.pages = random.randrange(1,21)\n",
    "\n",
    "    def getStamp(self):\n",
    "        return self.timestamp\n",
    "\n",
    "    def getPages(self):\n",
    "        return self.pages\n",
    "\n",
    "    def waitTime(self, currenttime):\n",
    "        return currenttime - self.timestamp\n",
    "\n",
    "\n",
    "def simulation(numSeconds, pagesPerMinute):\n",
    "\n",
    "    labprinter = Printer(pagesPerMinute)\n",
    "    printQueue = Queue()\n",
    "    waitingtimes = []\n",
    "\n",
    "    for currentSecond in range(numSeconds):\n",
    "        if newPrintTask():\n",
    "            task = Task(currentSecond)\n",
    "            printQueue.enqueue(task)\n",
    "\n",
    "        if (not labprinter.busy()) and (not printQueue.isEmpty()):\n",
    "            nexttask = printQueue.dequeue()\n",
    "            waitingtimes.append( nexttask.waitTime(currentSecond))\n",
    "            labprinter.startNext(nexttask)\n",
    "\n",
    "        labprinter.tick()\n",
    "\n",
    "    averageWait=sum(waitingtimes)/len(waitingtimes)\n",
    "    print(\"Average Wait %6.2f secs %3d tasks remaining.\"%(averageWait,printQueue.size()))\n",
    "\n",
    "def newPrintTask():\n",
    "    num = random.randrange(1,181)\n",
    "    if num == 180:\n",
    "        return True\n",
    "    else:\n",
    "        return False\n",
    "\n",
    "for i in range(10):\n",
    "    simulation(3600,5)\n"
   ]
  },
  {
   "cell_type": "markdown",
   "metadata": {},
   "source": [
    "# A deque, also known as a double-ended queue"
   ]
  },
  {
   "cell_type": "code",
   "execution_count": 51,
   "metadata": {
    "collapsed": true
   },
   "outputs": [],
   "source": [
    "class deque:\n",
    "    def __init__(self):\n",
    "        self.items = []\n",
    "    def isEmpty(self):\n",
    "        return self.items == []\n",
    "    def addFront(self, item):\n",
    "        self.items.append(item)\n",
    "    def addRear(self, item):\n",
    "        self.items.insert(0, item)\n",
    "    def removeFront(self):\n",
    "        return self.items.pop()\n",
    "    def removeRear(self):\n",
    "        return self.items.pop(0)\n",
    "    def size(self):\n",
    "        return len(self.items)"
   ]
  },
  {
   "cell_type": "markdown",
   "metadata": {},
   "source": [
    "# Palindrome Checker"
   ]
  },
  {
   "cell_type": "code",
   "execution_count": 53,
   "metadata": {
    "collapsed": false
   },
   "outputs": [
    {
     "name": "stdout",
     "output_type": "stream",
     "text": [
      "True\n"
     ]
    }
   ],
   "source": [
    "def PaChecker(string):\n",
    "    deq = deque()\n",
    "    for item in string:\n",
    "        deq.addRear(item)\n",
    "    equal = True\n",
    "    while deq.size() >1 and equal:\n",
    "        f = deq.removeFront()\n",
    "        r = deq.removeRear()\n",
    "        if f != r:\n",
    "            equal = False\n",
    "    return equal\n",
    "print PaChecker(\"radar\")"
   ]
  },
  {
   "cell_type": "markdown",
   "metadata": {},
   "source": [
    "# LinkedList"
   ]
  },
  {
   "cell_type": "code",
   "execution_count": 108,
   "metadata": {
    "collapsed": true
   },
   "outputs": [],
   "source": [
    "# unordered\n",
    "class Node:\n",
    "    def __init__(self, val):\n",
    "        self.val = val\n",
    "        self.next = None\n",
    "    def getData(self):\n",
    "        return self.val\n",
    "    def getNext(self):\n",
    "        return self.next\n",
    "\n",
    "class UnorderList:\n",
    "    def __init__(self):\n",
    "        self.head = None\n",
    "        \n",
    "    def isEmpty(self):\n",
    "        return self.head == None\n",
    "    \n",
    "    def add(self, item):\n",
    "        temp = Node(item)\n",
    "        temp.next = self.head\n",
    "        self.head = temp\n",
    "        \n",
    "    def size(self):\n",
    "        curr = self.head\n",
    "        count = 0\n",
    "        while curr != None:\n",
    "            curr = curr.next\n",
    "            count += 1\n",
    "        return count\n",
    "    \n",
    "    def search(self, item):\n",
    "        curr = self.head\n",
    "        while curr != None:\n",
    "            if curr.val == item:\n",
    "                return True\n",
    "            curr = curr.next\n",
    "        return False\n",
    "    def remove(self, item):\n",
    "        prev = None\n",
    "        curr = self.head\n",
    "        found = False\n",
    "        while not found:\n",
    "            if curr.val ==item:\n",
    "                found = True\n",
    "            else:\n",
    "                prev = curr\n",
    "                curr = curr.next\n",
    "        if prev == None:\n",
    "            self.head = curr.next\n",
    "        else:\n",
    "            prev.setNext(curr.next)\n",
    "    def printList(self):\n",
    "        node = self.head\n",
    "        while node != None:\n",
    "            print node.val\n",
    "            node = node.next\n",
    "#ordered\n",
    "class orderList:\n",
    "    def __init__(self):\n",
    "        self.head = None\n",
    "    def isEmpty(self):\n",
    "        return self.head == None\n",
    "    def add(self, item):\n",
    "        prev = None\n",
    "        curr = self.head\n",
    "        stop = False\n",
    "        while curr != None and not stop:\n",
    "            if curr.getData() > item:\n",
    "                stop = True\n",
    "            else:\n",
    "                prev = curr\n",
    "                curr = curr.getNext()\n",
    "        temp = Node(item)\n",
    "        temp.setNext(curr)\n",
    "        if prev == None:\n",
    "            self.head = temp\n",
    "        else:\n",
    "            prev.setNext(temp)\n",
    "    def size(self):\n",
    "        curr = self.head\n",
    "        count = 0\n",
    "        while curr != None:\n",
    "            curr = curr.getNext()\n",
    "            count += 1\n",
    "        return count\n",
    "    def search(self, item):\n",
    "        curr = self.head\n",
    "        while curr != None:\n",
    "            if curr.getData() == item:\n",
    "                return True\n",
    "            curr = curr.getNext()\n",
    "        return False\n",
    "    def remove(self, item):\n",
    "        prev = None\n",
    "        curr = self.head\n",
    "        found = False\n",
    "        while not found:\n",
    "            if curr.getData() ==item:\n",
    "                found = True\n",
    "            else:\n",
    "                prev = curr\n",
    "                curr = curr.getNext()\n",
    "        if prev == None:\n",
    "            self.head = curr.getNext()\n",
    "        else:\n",
    "            prev.setNext(curr.getNext())\n",
    "\n",
    "            \n",
    "def reverseList(head):\n",
    "    curr = head.next\n",
    "    head = None\n",
    "    while curr:\n",
    "        next, curr.next = curr.next, head\n",
    "        head, curr = curr, next\n",
    "    return head\n",
    "        \n",
    "    "
   ]
  },
  {
   "cell_type": "code",
   "execution_count": 109,
   "metadata": {
    "collapsed": false
   },
   "outputs": [
    {
     "name": "stdout",
     "output_type": "stream",
     "text": [
      "5\n",
      "4\n",
      "3\n",
      "2\n",
      "1\n",
      "1\n",
      "2\n",
      "3\n",
      "4\n",
      "5\n"
     ]
    }
   ],
   "source": [
    "l1 = UnorderList()\n",
    "l1.add(1)\n",
    "l1.add(2)\n",
    "l1.add(3)\n",
    "l1.add(4)\n",
    "l1.add(5)\n",
    "l1.printList()\n",
    "h = reverseList(l1.head)\n",
    "h1 = reverse(l1.head)\n",
    "while h:\n",
    "    print h.val\n",
    "    h = h.next"
   ]
  },
  {
   "cell_type": "code",
   "execution_count": 76,
   "metadata": {
    "collapsed": false
   },
   "outputs": [
    {
     "data": {
      "text/plain": [
       "False"
      ]
     },
     "execution_count": 76,
     "metadata": {},
     "output_type": "execute_result"
    }
   ],
   "source": [
    "'''\n",
    "remove list element\n",
    "'''\n",
    "a = [1,2,3,4,5]\n",
    "#remove by value\n",
    "a.remove(1) \n",
    "#pop by index, default last one\n",
    "a.pop() \n",
    "#by index\n",
    "del a[0]"
   ]
  },
  {
   "cell_type": "code",
   "execution_count": 20,
   "metadata": {
    "collapsed": false
   },
   "outputs": [
    {
     "data": {
      "text/plain": [
       "['red']"
      ]
     },
     "execution_count": 20,
     "metadata": {},
     "output_type": "execute_result"
    }
   ],
   "source": [
    "class color:\n",
    "    def __init__(self):\n",
    "        self.name = ''\n",
    "    def setn(self, s):\n",
    "        self.name = s\n",
    "    def getn(self):\n",
    "        return self.name\n",
    "    def NonblueList(self):\n",
    "        l = []\n",
    "        if self.getn() != 'blue':\n",
    "            l.append(self.getn())\n",
    "        return l\n",
    "obj = color()\n",
    "obj.setn('blue')\n",
    "obj.setn('red')\n",
    "obj.NonblueList()"
   ]
  },
  {
   "cell_type": "code",
   "execution_count": 13,
   "metadata": {
    "collapsed": false
   },
   "outputs": [
    {
     "name": "stdout",
     "output_type": "stream",
     "text": [
      "['__doc__', '__init__', '__module__', 'element1']\n",
      "--\n",
      "['__doc__', '__init__', '__module__', 'element1', 'element2']\n",
      "--\n",
      "Hello\n",
      "World\n",
      "Hello\n"
     ]
    }
   ],
   "source": [
    "#variable belong to a class, belong to an object\n",
    "class MyClass:\n",
    "    element1 = \"Hello\"\n",
    "\n",
    "    def __init__(self):\n",
    "        self.element2 = \"World\"\n",
    "\n",
    "obj = MyClass()\n",
    "\n",
    "print dir(MyClass)\n",
    "print \"--\"\n",
    "print dir(obj)\n",
    "print \"--\"\n",
    "print obj.element1 \n",
    "print obj.element2\n",
    "print MyClass.element1"
   ]
  },
  {
   "cell_type": "code",
   "execution_count": 54,
   "metadata": {
    "collapsed": false
   },
   "outputs": [
    {
     "data": {
      "text/plain": [
       "[]"
      ]
     },
     "execution_count": 54,
     "metadata": {},
     "output_type": "execute_result"
    }
   ],
   "source": [
    "\"\"\"Softmax.\"\"\"\n",
    "\n",
    "scores = [3.0, 1.0, 0.2]\n",
    "\n",
    "import numpy as np\n",
    "\n",
    "def softmax(x):\n",
    "    \"\"\"Compute softmax values for each sets of scores in x.\"\"\"\n",
    "    total = 0\n",
    "    for i in x:\n",
    "        total +=i\n",
    "    for i in x:\n",
    "        i = i/total\n",
    "    pass  # TODO: Compute and return softmax(x)\n",
    "\n",
    "\n",
    "print(softmax(scores))\n",
    "\n",
    "# Plot softmax curves\n",
    "import matplotlib.pyplot as plt\n",
    "x = np.arange(-2.0, 6.0, 0.1)\n",
    "scores = np.vstack([x, np.ones_like(x), 0.2 * np.ones_like(x)])\n",
    "print scores\n",
    "plt.plot(x, softmax(scores).T, linewidth=2)\n",
    "plt.show()"
   ]
  },
  {
   "cell_type": "code",
   "execution_count": 60,
   "metadata": {
    "collapsed": false
   },
   "outputs": [
    {
     "name": "stdout",
     "output_type": "stream",
     "text": [
      "<_sre.SRE_Match object at 0x1018be988>\n"
     ]
    }
   ],
   "source": [
    "import re\n",
    "print re.match(r'^1[0]+|1','1')"
   ]
  },
  {
   "cell_type": "code",
   "execution_count": null,
   "metadata": {
    "collapsed": true
   },
   "outputs": [],
   "source": []
  }
 ],
 "metadata": {
  "kernelspec": {
   "display_name": "Python 2",
   "language": "python",
   "name": "python2"
  },
  "language_info": {
   "codemirror_mode": {
    "name": "ipython",
    "version": 2
   },
   "file_extension": ".py",
   "mimetype": "text/x-python",
   "name": "python",
   "nbconvert_exporter": "python",
   "pygments_lexer": "ipython2",
   "version": "2.7.13"
  }
 },
 "nbformat": 4,
 "nbformat_minor": 0
}
