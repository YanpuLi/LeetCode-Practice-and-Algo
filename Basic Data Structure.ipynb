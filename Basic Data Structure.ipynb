{
 "cells": [
  {
   "cell_type": "markdown",
   "metadata": {},
   "source": [
    "# Tree"
   ]
  },
  {
   "cell_type": "code",
   "execution_count": null,
   "metadata": {
    "collapsed": true
   },
   "outputs": [],
   "source": [
    "'''\n",
    "Inorder print a BT\n",
    "using stack, push root and all its left child into stack, if no leftchild, then pop stack, then go through all right child\n",
    "\n",
    "'''\n",
    "class TreeNode(object):\n",
    "     def __init__(self, x):\n",
    "            self.val = x\n",
    "            self.left = None\n",
    "            self.right = None\n",
    "\n",
    "class Solution(object):\n",
    "    def inorderTraversal(self, root):\n",
    "        \"\"\"\n",
    "        :type root: TreeNode\n",
    "        :rtype: List[int]\n",
    "        \"\"\"\n",
    "        result = []\n",
    "        stack = []\n",
    "        p = root\n",
    "        while p or stack:\n",
    "            # Save the nodes which have left child\n",
    "            while p:\n",
    "                stack.append(p)\n",
    "                p = p.left\n",
    "            if stack:\n",
    "                p = stack.pop()\n",
    "                # Visit the middle node\n",
    "                result.append(p.val)\n",
    "                # Visit the right subtree\n",
    "                p = p.right\n",
    "        return result\n",
    "    '''\n",
    "    given inorder of a BST, the value of the sequence must be increasing\n",
    "    '''\n",
    "    def isValidBST(self, root):\n",
    "        curr = root\n",
    "        prev = None\n",
    "        stack = []\n",
    "        while curr or stack:\n",
    "            while curr:\n",
    "                stack.append(curr)\n",
    "                curr = curr.left\n",
    "                \n",
    "            if stack:\n",
    "                curr = stack.pop()\n",
    "                if prev and prev.val >= curr.val:\n",
    "                    return False\n",
    "                prev = curr\n",
    "                curr = curr.right\n",
    "        return True\n",
    "    "
   ]
  },
  {
   "cell_type": "markdown",
   "metadata": {},
   "source": [
    "# Stack"
   ]
  },
  {
   "cell_type": "code",
   "execution_count": null,
   "metadata": {
    "collapsed": true
   },
   "outputs": [],
   "source": []
  }
 ],
 "metadata": {
  "kernelspec": {
   "display_name": "Python 2",
   "language": "python",
   "name": "python2"
  },
  "language_info": {
   "codemirror_mode": {
    "name": "ipython",
    "version": 2
   },
   "file_extension": ".py",
   "mimetype": "text/x-python",
   "name": "python",
   "nbconvert_exporter": "python",
   "pygments_lexer": "ipython2",
   "version": "2.7.13"
  }
 },
 "nbformat": 4,
 "nbformat_minor": 0
}
