{
 "cells": [
  {
   "cell_type": "code",
   "execution_count": 34,
   "metadata": {
    "collapsed": false
   },
   "outputs": [
    {
     "name": "stdout",
     "output_type": "stream",
     "text": [
      "3\n",
      "2\n",
      "1\n",
      "\n",
      "3\n",
      "2\n"
     ]
    }
   ],
   "source": [
    "class Node:\n",
    "    def __init__(self, data):\n",
    "        self.data = data\n",
    "        self.next = None\n",
    "    def __str__(self):\n",
    "        return str(self.data)\n",
    "class LinkedList:\n",
    "    def __init__(self):\n",
    "        self.head = None\n",
    "  \n",
    "    def AddNode(self, data):\n",
    "        node = Node(data)\n",
    "        node.next = self.head\n",
    "        self.head = node\n",
    "    def Search(self, key):\n",
    "        node = self.head\n",
    "        i = 0\n",
    "        while node != None:\n",
    "            if node.data == key:\n",
    "                return node, i\n",
    "            else:\n",
    "                node = node.next\n",
    "                i = i+1\n",
    "    def RemoveNode(self, index):\n",
    "        prev = None\n",
    "        node = self.head\n",
    "        i = 0\n",
    "        while node != None and i < index:\n",
    "            prev = node\n",
    "            node = node.next\n",
    "            i = i+1\n",
    "        if prev == None:\n",
    "            self.head = node.next\n",
    "        else:\n",
    "            prev.next = node.next\n",
    "        \n",
    "                \n",
    "    def printList(self):\n",
    "        node = self.head\n",
    "        while node != None:\n",
    "            print node.data\n",
    "            node = node.next\n",
    "        \n",
    "            \n",
    "\n",
    "\n",
    "ll = LinkedList()\n",
    "ll.AddNode(1)\n",
    "ll.AddNode(2)\n",
    "ll.AddNode(3)\n",
    "ll.printList()\n",
    "\n",
    "ll.RemoveNode(ll.Search(1)[1])\n",
    "\n",
    "ll.printList()"
   ]
  },
  {
   "cell_type": "code",
   "execution_count": null,
   "metadata": {
    "collapsed": true
   },
   "outputs": [],
   "source": [
    "'''\n",
    "Stack \n",
    "peek, push, pop\n",
    "'''\n",
    "class Stack:\n",
    "    def __init__(self):\n",
    "        self.items = []\n",
    "    def push(self, data):\n",
    "        self.items.append(data)\n",
    "    def pop(self):\n",
    "        return self.items.pop()\n",
    "    def peek(self):\n",
    "        return self.items[len(self.items)-1]\n",
    "'''\n",
    "Queue\n",
    "enqueue\n",
    "dequeue\n",
    "'''\n",
    "class Queue:\n",
    "    def __init__(self):\n",
    "        self.items = []\n",
    "    def Enqueue(self, data):\n",
    "        self.items.append(data)\n",
    "    def Dequeue(self):\n",
    "        return self.items.pop()\n",
    "    "
   ]
  },
  {
   "cell_type": "code",
   "execution_count": 2,
   "metadata": {
    "collapsed": false
   },
   "outputs": [
    {
     "data": {
      "text/plain": [
       "[1, 2]"
      ]
     },
     "execution_count": 2,
     "metadata": {},
     "output_type": "execute_result"
    }
   ],
   "source": [
    "a=[1,2,3]\n",
    "a.pop()\n",
    "a"
   ]
  },
  {
   "cell_type": "code",
   "execution_count": 36,
   "metadata": {
    "collapsed": false
   },
   "outputs": [
    {
     "data": {
      "text/plain": [
       "2"
      ]
     },
     "execution_count": 36,
     "metadata": {},
     "output_type": "execute_result"
    }
   ],
   "source": [
    "a[-1]"
   ]
  }
 ],
 "metadata": {
  "kernelspec": {
   "display_name": "Python 2",
   "language": "python",
   "name": "python2"
  },
  "language_info": {
   "codemirror_mode": {
    "name": "ipython",
    "version": 2
   },
   "file_extension": ".py",
   "mimetype": "text/x-python",
   "name": "python",
   "nbconvert_exporter": "python",
   "pygments_lexer": "ipython2",
   "version": "2.7.11"
  }
 },
 "nbformat": 4,
 "nbformat_minor": 0
}
