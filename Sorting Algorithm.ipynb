{
 "cells": [
  {
   "cell_type": "code",
   "execution_count": 62,
   "metadata": {
    "collapsed": true
   },
   "outputs": [],
   "source": [
    "'''\n",
    "increasing order\n",
    "for every iteration, the largest will be at the last position, so no need to compare the last one\n",
    "'''\n",
    "def Bubble(arr):\n",
    "    for i in range(len(arr)):\n",
    "        for j in range(1, len(arr)-i):\n",
    "            if arr[j-1]> arr[j]:\n",
    "                temp = arr[j-1]\n",
    "                arr[j-1] = arr[j]\n",
    "                arr[j] = temp\n",
    "    return arr"
   ]
  },
  {
   "cell_type": "code",
   "execution_count": 63,
   "metadata": {
    "collapsed": false
   },
   "outputs": [
    {
     "name": "stdout",
     "output_type": "stream",
     "text": [
      "[17, 20, 26, 31, 44, 54, 55, 77, 93]\n"
     ]
    }
   ],
   "source": [
    "alist = [54,26,93,17,77,31,44,55,20]  \n",
    "print Bubble(alist)\n"
   ]
  },
  {
   "cell_type": "code",
   "execution_count": 72,
   "metadata": {
    "collapsed": true
   },
   "outputs": [],
   "source": [
    "'''\n",
    "compare the item with the sorted sublist\n",
    "index point to the 1st one in the unsorted list\n",
    "'''\n",
    "def Insert(arr):\n",
    "    n = len(arr)\n",
    "    for i in range(1, n):\n",
    "        key = arr[i]\n",
    "        index = i#position to insert the next element\n",
    "        while index >0 and arr[index-1] >key:\n",
    "            arr[index] = arr[index-1]\n",
    "            index = index -1\n",
    "        arr[index] = key\n",
    "    return arr"
   ]
  },
  {
   "cell_type": "code",
   "execution_count": 73,
   "metadata": {
    "collapsed": false
   },
   "outputs": [
    {
     "name": "stdout",
     "output_type": "stream",
     "text": [
      "[17, 20, 26, 31, 44, 54, 55, 77, 93]\n"
     ]
    }
   ],
   "source": [
    "alist = [54,26,93,17,77,31,44,55,20] \n",
    "print Insert(alist)\n"
   ]
  },
  {
   "cell_type": "code",
   "execution_count": 68,
   "metadata": {
    "collapsed": true
   },
   "outputs": [],
   "source": [
    "'''\n",
    "every time select the min from unsorted list, move it to the right end of the sorted list\n",
    "find min in unsorted list, and exchange it with the 1st one in the unsorted list\n",
    "'''\n",
    "def Select(arr):\n",
    "    n = len(arr)\n",
    "    index = 0\n",
    "    for i in range(n):\n",
    "        val = arr[i]\n",
    "        minIndex = i\n",
    "        for j in range(i, n):\n",
    "            if val > arr[j]:\n",
    "                val = arr[j]\n",
    "                minIndex = j\n",
    "        arr[minIndex] = arr[i]\n",
    "        arr[i] = val\n",
    "    return arr"
   ]
  },
  {
   "cell_type": "code",
   "execution_count": 69,
   "metadata": {
    "collapsed": false
   },
   "outputs": [
    {
     "name": "stdout",
     "output_type": "stream",
     "text": [
      "[17, 20, 26, 31, 44, 54, 55, 77, 93]\n"
     ]
    }
   ],
   "source": [
    "alist = [54,26,93,17,77,31,44,55,20] \n",
    "print Select(alist)\n"
   ]
  },
  {
   "cell_type": "markdown",
   "metadata": {},
   "source": [
    "Insert VS Select\n",
    "Insert: comparison between the new item and the sorted sublist\n",
    "Select: comparison between the last one in the sorted sublist and all the rest unsorted items\n",
    "Select is more time-consuming, O(n2)"
   ]
  },
  {
   "cell_type": "code",
   "execution_count": 70,
   "metadata": {
    "collapsed": false
   },
   "outputs": [],
   "source": [
    "'''\n",
    "when doing merge, both left and right part are assumed to be sorted\n",
    "'''\n",
    "def Merge(left, right):\n",
    "    l,r = 0,0\n",
    "    result = []\n",
    "    while l < len(left) and r< len(right):\n",
    "        if left[l] < right[r]:\n",
    "            result.append(left[l])\n",
    "            l = l + 1\n",
    "        else:\n",
    "            result.append(right[r])\n",
    "            r = r + 1\n",
    "    result = result + left[l:]\n",
    "    result = result + right[r:]\n",
    "    return result\n",
    "def MergeSort(arr):\n",
    "    n = len(arr)\n",
    "    if n<=1: return arr\n",
    "    num = int(n/2)\n",
    "    left = MergeSort(arr[:num])\n",
    "    right = MergeSort(arr[num:])\n",
    "    return Merge(left, right)\n",
    "\n",
    "    "
   ]
  },
  {
   "cell_type": "code",
   "execution_count": 71,
   "metadata": {
    "collapsed": false
   },
   "outputs": [
    {
     "name": "stdout",
     "output_type": "stream",
     "text": [
      "[17, 20, 26, 31, 44, 54, 55, 77, 93]\n"
     ]
    }
   ],
   "source": [
    "alist = [54,26,93,17,77,31,44,55,20] \n",
    "print MergeSort(alist)\n"
   ]
  },
  {
   "cell_type": "code",
   "execution_count": null,
   "metadata": {
    "collapsed": true
   },
   "outputs": [],
   "source": [
    "def quicksort(myList, start, end):\n",
    "    if start < end:\n",
    "        # partition the list\n",
    "        pivot = partition(myList, start, end)\n",
    "        # sort both halves\n",
    "        quicksort(myList, start, pivot-1)\n",
    "        quicksort(myList, pivot+1, end)\n",
    "    return myList\n",
    "def partition(myList, start, end):\n",
    "    pivot = myList[start]\n",
    "    left = start+1\n",
    "    right = end\n",
    "    done = False\n",
    "    while not done:\n",
    "        while left <= right and myList[left] <= pivot:\n",
    "            left = left + 1\n",
    "        while myList[right] >= pivot and right >=left:\n",
    "            right = right -1\n",
    "        if right < left:\n",
    "            done= True\n",
    "        else:\n",
    "            # swap places\n",
    "            temp=myList[left]\n",
    "            myList[left]=myList[right]\n",
    "            myList[right]=temp\n",
    "    # swap start with myList[right]\n",
    "    temp=myList[start]\n",
    "    myList[start]=myList[right]\n",
    "    myList[right]=temp\n",
    "    return right"
   ]
  },
  {
   "cell_type": "code",
   "execution_count": null,
   "metadata": {
    "collapsed": true
   },
   "outputs": [],
   "source": [
    "def mergesort():\n",
    "\n",
    "def merge():"
   ]
  }
 ],
 "metadata": {
  "kernelspec": {
   "display_name": "Python 2",
   "language": "python",
   "name": "python2"
  },
  "language_info": {
   "codemirror_mode": {
    "name": "ipython",
    "version": 2
   },
   "file_extension": ".py",
   "mimetype": "text/x-python",
   "name": "python",
   "nbconvert_exporter": "python",
   "pygments_lexer": "ipython2",
   "version": "2.7.13"
  }
 },
 "nbformat": 4,
 "nbformat_minor": 0
}
