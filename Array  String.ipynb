{
 "cells": [
  {
   "cell_type": "code",
   "execution_count": 41,
   "metadata": {
    "collapsed": true
   },
   "outputs": [],
   "source": [
    "'''\n",
    "Two Sum: using hashmap, key: data, value: index\n",
    "'''\n",
    "class Solution(object):\n",
    "    def twoSum(self, nums, target):\n",
    "        table = {}\n",
    "        for i in range(len(nums)):\n",
    "            # dict.get(key, default = None) return value\n",
    "            if table.get(target - nums[i], None) == None:\n",
    "                table[nums[i]] = i\n",
    "            else:\n",
    "                return (table[target - nums[i]], i)\n",
    "    def twoSum2(self, nums, target):\n",
    "        #using binary search, as the list is already sorted\n",
    "        i = 0\n",
    "        j = len(nums)-1\n",
    "        while i < j:\n",
    "            result = nums[i] +nums[j]\n",
    "            if result > target:\n",
    "                j = j-1\n",
    "            elif result < target:\n",
    "                i = i+1\n",
    "            else:\n",
    "                return (i,j)\n",
    "    \n",
    "    def isPalindrome(self, s):\n",
    "        i, j = 0, len(s)-1\n",
    "        while i <j:\n",
    "            while i < j and not s[i].isalnum():\n",
    "                i += 1\n",
    "            while i < j and not s[j].isalnum():\n",
    "                j -= 1\n",
    "            if s[i].lower() != s[j].lower():\n",
    "                return False\n",
    "            i = i+1\n",
    "            j = j-1\n",
    "        return True\n",
    "    def reverseWords(self, s):\n",
    "        words = s.split()\n",
    "        i, j = 0, len(words)-1\n",
    "        while i <j:\n",
    "            temp = words[i]\n",
    "            words[i]= words[j]\n",
    "            words[j] =temp\n",
    "            i = i+1\n",
    "            j = j-1\n",
    "        return \" \".join(words)\n",
    "    def lengthOfLongestSubstring(self, s):\n",
    "        left = 0\n",
    "        ans = 0\n",
    "        last = {}\n",
    "        for i in range(len(s)):\n",
    "            if s[i] in last and last[s[i]] >= left:\n",
    "                #moving pointer to next\n",
    "                left = last[s[i]]+1\n",
    "            last[s[i]] = i\n",
    "            ans = max(ans, i - left +1)\n",
    "        return ans\n",
    "    def reverse(self, x):\n",
    "        \"\"\"\n",
    "        negative, overflow, tailing 0\n",
    "        \"\"\"\n",
    "        if x == 0: return 0\n",
    "        elif x < 0:\n",
    "            flag =-1\n",
    "            x = x*(-1)\n",
    "        else:\n",
    "            flag = 1\n",
    "        result = 0 \n",
    "        while x > 0:\n",
    "            result = result*10 +x%10\n",
    "            x = x/10\n",
    "        #<< binary left shift operator\n",
    "        if result < -(1 << 31) or result > (1 << 31) - 1:\n",
    "            return 0\n",
    "            \n",
    "        else:\n",
    "            return result*flag\n",
    "    def isNumPalindrome(self, x):\n",
    "        '''\n",
    "        reverse the number and compare\n",
    "        '''\n",
    "        if x < 0:\n",
    "            return False\n",
    "        if x == 0:\n",
    "            return True\n",
    "        end = 0\n",
    "        result = 0\n",
    "        orig = x\n",
    "        while x >0:\n",
    "            end = x%10\n",
    "            result = result*10 + end\n",
    "            x = x/10\n",
    "        if result == orig:\n",
    "            return True\n",
    "        else:\n",
    "            return False"
   ]
  },
  {
   "cell_type": "code",
   "execution_count": 42,
   "metadata": {
    "collapsed": false
   },
   "outputs": [
    {
     "name": "stdout",
     "output_type": "stream",
     "text": [
      "(0, 1)\n",
      "True\n",
      "Panama canal a plan a man, A\n",
      "4\n",
      "False\n"
     ]
    }
   ],
   "source": [
    "nums = [3,2,4]\n",
    "a = 5\n",
    "obj = Solution()\n",
    "print obj.twoSum2(nums, a)\n",
    "s = \"A man, a plan  a canal Panama\"\n",
    "print obj.isPalindrome(s)\n",
    "print obj.reverseWords(s)\n",
    "sub = \"abcdba\"\n",
    "print obj.lengthOfLongestSubstring(sub)\n",
    "print obj.isNumPalindrome(1)"
   ]
  },
  {
   "cell_type": "code",
   "execution_count": 46,
   "metadata": {
    "collapsed": false
   },
   "outputs": [
    {
     "data": {
      "text/plain": [
       "1"
      ]
     },
     "execution_count": 46,
     "metadata": {},
     "output_type": "execute_result"
    }
   ],
   "source": [
    "12/10"
   ]
  },
  {
   "cell_type": "code",
   "execution_count": null,
   "metadata": {
    "collapsed": true
   },
   "outputs": [],
   "source": []
  }
 ],
 "metadata": {
  "kernelspec": {
   "display_name": "Python 2",
   "language": "python",
   "name": "python2"
  },
  "language_info": {
   "codemirror_mode": {
    "name": "ipython",
    "version": 2
   },
   "file_extension": ".py",
   "mimetype": "text/x-python",
   "name": "python",
   "nbconvert_exporter": "python",
   "pygments_lexer": "ipython2",
   "version": "2.7.11"
  }
 },
 "nbformat": 4,
 "nbformat_minor": 0
}
