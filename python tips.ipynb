{
 "cells": [
  {
   "cell_type": "markdown",
   "metadata": {},
   "source": [
    "# Python Scope & LEGB"
   ]
  },
  {
   "cell_type": "markdown",
   "metadata": {},
   "source": [
    "# sys module\n",
    "def _getframe(depth=None): # real signature unknown; restored from __doc__\n",
    "    \"\"\"\n",
    "    _getframe([depth]) -> frameobject\n",
    "    \n",
    "    Return a frame object from the call stack.  If optional integer depth is\n",
    "    given, return the frame object that many calls below the top of the stack.\n",
    "    If that is deeper than the call stack, ValueError is raised.  The default\n",
    "    for depth is zero, returning the frame at the top of the call stack.\n",
    "    \n",
    "    This function should be used for internal and specialized\n",
    "    purposes only.\n",
    "    \"\"\"\n",
    "    pass\n",
    "# help(sys._getframe())\n",
    "# Output:\n",
    "class frame(object)\n",
    " .....            # 省略\n",
    " |  Data descriptors defined here:\n",
    " |  f_back        # 上一个栈帧对象(谁调用自己)\n",
    " |  f_builtins    # 内置名字空间\n",
    " |  f_locals      # 全局名字空间\n",
    " |  f_globals     # 全局名字空间\n",
    " |  f_code        # 帧指向的 codeObject对象\n",
    "locals 是函数内的名字空间，包括局部变量和形参\n",
    "enclosing 外部嵌套函数的名字空间（闭包中常见）\n",
    "globals 全局变量，函数定义所在模块的名字空间\n",
    "builtins 内置模块的名字空间\n",
    "而查找的优先顺序从左到右以此是: L -> E -> G -> B\n",
    "\n"
   ]
  },
  {
   "cell_type": "code",
   "execution_count": 2,
   "metadata": {
    "collapsed": false
   },
   "outputs": [
    {
     "name": "stdout",
     "output_type": "stream",
     "text": [
      "3\n",
      "<built-in function open>\n",
      "----------------------分割线----------------\n",
      "3\n"
     ]
    }
   ],
   "source": [
    "import sys\n",
    "a = 3\n",
    "def f():\n",
    "    print a     # 输出 3\n",
    "    print open  # 输出 <built-in function open>\n",
    "f()\n",
    " \n",
    "print '----------------------分割线----------------'\n",
    " \n",
    "a = 3\n",
    "def f():\n",
    "    def v():\n",
    "        print a\n",
    "    return v\n",
    "test = f()\n",
    "test()          # 输出 3"
   ]
  },
  {
   "cell_type": "code",
   "execution_count": 3,
   "metadata": {
    "collapsed": false
   },
   "outputs": [
    {
     "name": "stdout",
     "output_type": "stream",
     "text": [
      "4\n"
     ]
    }
   ],
   "source": [
    "%%nbtutor -r -f\n",
    "a = 3\n",
    "def f():\n",
    "    a = 4\n",
    "    def v():\n",
    "        print a\n",
    "    return v\n",
    "test = f()\n",
    "test()   "
   ]
  },
  {
   "cell_type": "code",
   "execution_count": 1,
   "metadata": {
    "collapsed": false
   },
   "outputs": [],
   "source": [
    "%load_ext nbtutor"
   ]
  },
  {
   "cell_type": "code",
   "execution_count": 6,
   "metadata": {
    "collapsed": false
   },
   "outputs": [
    {
     "name": "stdout",
     "output_type": "stream",
     "text": [
      "30.0\n"
     ]
    }
   ],
   "source": [
    "%%nbtutor \n",
    "import math\n",
    "def fubar(egg, spam):\n",
    "    foo = egg *spam\n",
    "    return foo\n",
    "bar = fubar(0.1, 300)\n",
    "print bar"
   ]
  },
  {
   "cell_type": "code",
   "execution_count": 2,
   "metadata": {
    "collapsed": false
   },
   "outputs": [
    {
     "data": {
      "text/plain": [
       "A    5\n",
       "B    7\n",
       "C    9\n",
       "dtype: int64"
      ]
     },
     "execution_count": 2,
     "metadata": {},
     "output_type": "execute_result"
    }
   ],
   "source": [
    "import pandas as pd\n",
    "keys   = ['A', 'B', 'C', 'A', 'B', 'C']\n",
    "vals = [ 1,   2,   3,   4,   5,   6 ]\n",
    "\n",
    "pd.Series(vals).groupby(keys).sum()"
   ]
  },
  {
   "cell_type": "code",
   "execution_count": 3,
   "metadata": {
    "collapsed": false
   },
   "outputs": [
    {
     "data": {
      "text/plain": [
       "{'A': 5, 'B': 7, 'C': 9}"
      ]
     },
     "execution_count": 3,
     "metadata": {},
     "output_type": "execute_result"
    }
   ],
   "source": [
    "def pandas_groupby(keys, vals):\n",
    "    return pd.Series(vals).groupby(keys).sum().to_dict()\n",
    "\n",
    "pandas_groupby(keys, vals)"
   ]
  },
  {
   "cell_type": "markdown",
   "metadata": {},
   "source": [
    "To avoid rerunning of identical benchmarks within the notebook, I'll make use of Python's functools.lru_cache decorator, which can cache the results of long-running functions, returning the cached value if the function is called again with the same inputs:"
   ]
  },
  {
   "cell_type": "code",
   "execution_count": null,
   "metadata": {
    "collapsed": true
   },
   "outputs": [],
   "source": []
  }
 ],
 "metadata": {
  "kernelspec": {
   "display_name": "Python 2",
   "language": "python",
   "name": "python2"
  },
  "language_info": {
   "codemirror_mode": {
    "name": "ipython",
    "version": 2
   },
   "file_extension": ".py",
   "mimetype": "text/x-python",
   "name": "python",
   "nbconvert_exporter": "python",
   "pygments_lexer": "ipython2",
   "version": "2.7.13"
  }
 },
 "nbformat": 4,
 "nbformat_minor": 0
}
