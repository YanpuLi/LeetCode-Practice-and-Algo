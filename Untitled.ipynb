{
 "cells": [
  {
   "cell_type": "markdown",
   "metadata": {},
   "source": [
    "# OOP Design"
   ]
  },
  {
   "cell_type": "code",
   "execution_count": 97,
   "metadata": {
    "collapsed": false
   },
   "outputs": [
    {
     "name": "stdout",
     "output_type": "stream",
     "text": [
      "[(0, 5)]\n"
     ]
    },
    {
     "data": {
      "text/plain": [
       "[5]"
      ]
     },
     "execution_count": 97,
     "metadata": {},
     "output_type": "execute_result"
    }
   ],
   "source": [
    "'''\n",
    "#355\n",
    "'''\n",
    "import itertools \n",
    "import collections\n",
    "class Twitter(object):\n",
    "\n",
    "    def __init__(self):\n",
    "        \"\"\"\n",
    "        Initialize your data structure here.\n",
    "        \"\"\"\n",
    "        self.timer = itertools.count(step=1)\n",
    "        self.tweets = collections.defaultdict(list)\n",
    "        self.relationship = collections.defaultdict(set)\n",
    "        \n",
    "\n",
    "    def postTweet(self, userId, tweetId):\n",
    "        self.tweets[userId].append((next(self.timer), tweetId))\n",
    "        \n",
    "\n",
    "    def getNewsFeed(self, userId):\n",
    "        \"\"\"\n",
    "        Retrieve the 10 most recent tweet ids in the user's news feed. Each item in the news feed must be posted by users who the user followed or by the user herself. Tweets must be ordered from most recent to least recent.\n",
    "        :type userId: int\n",
    "        :rtype: List[int]\n",
    "        \"\"\"\n",
    "        followees = list(self.relationship[userId]) \n",
    "        if userId not in followees:\n",
    "            followees.append(userId)\n",
    "        \n",
    "        tweet_list = []\n",
    "        tweet_ids = []\n",
    "        for item in followees:\n",
    "            tweet_list = tweet_list + self.tweets[item]\n",
    "\n",
    "        tweet_list.sort(reverse = True)\n",
    "        \n",
    "        for i in tweet_list[0:10]:\n",
    "            tweet_ids.append(i[1])\n",
    "        return tweet_ids\n",
    "        \n",
    "\n",
    "    def follow(self, followerId, followeeId):\n",
    "        self.relationship[followerId].add(followeeId)\n",
    "        \n",
    "\n",
    "    def unfollow(self, followerId, followeeId):\n",
    "        self.relationship[followerId].discard(followeeId)\n",
    "        \n",
    "\n",
    "\n",
    "# Your Twitter object will be instantiated and called as such:\n",
    "obj = Twitter()\n",
    "obj.postTweet(1,5)\n",
    "obj.follow(1,1)\n",
    "\n",
    "obj.getNewsFeed(1)"
   ]
  },
  {
   "cell_type": "code",
   "execution_count": 121,
   "metadata": {
    "collapsed": false
   },
   "outputs": [
    {
     "name": "stdout",
     "output_type": "stream",
     "text": [
      "False\n"
     ]
    }
   ],
   "source": [
    "class TrieNode:\n",
    "    def __init__(self):\n",
    "        self.leaf = False\n",
    "class TrieNode:  \n",
    "    def __init__(self):  \n",
    "        self.leaf = False  \n",
    "        self.children = [None] * 26  \n",
    "class Trie:  \n",
    "    def __init__(self):  \n",
    "        self.root = TrieNode()  \n",
    "        self.size = 0  \n",
    "  \n",
    "    def insert(self, s):  \n",
    "        if len(s) == 0:  \n",
    "            return  \n",
    "        p = self.root  \n",
    "        i = 0  \n",
    "        while i < len(s):  \n",
    "            if p.children[ord(s[i])-ord('a')] is None:  \n",
    "                new_node = TrieNode()  \n",
    "                p.children[ord(s[i])-ord('a')] = new_node  \n",
    "            p = p.children[ord(s[i])-ord('a')]  \n",
    "            i += 1  \n",
    "        p.leaf = True  \n",
    "        self.size += 1  \n",
    "  \n",
    "    def search(self, s):  \n",
    "        if len(s) == 0:  \n",
    "            return False  \n",
    "         \n",
    "        return self.searchRe(s, self.root, 0)\n",
    "        \n",
    "    def searchRe(self, s, p, i):\n",
    "        if len(s) == i:\n",
    "            if p.leaf:\n",
    "                return True\n",
    "            return False\n",
    "            \n",
    "        result = False\n",
    "        if s[i] == '.':\n",
    "            for j in range(0, 26):\n",
    "                if p.children[j] != None:\n",
    "                    if self.searchRe(s, p.children[j], i+1):\n",
    "                        result = True\n",
    "        else:\n",
    "            if p.children[ord(s[i]) - ord('a')] != None:\n",
    "                if self.searchRe(s, p.children[ord(s[i]) - ord('a')], i+1):\n",
    "                    result = True\n",
    "        return result\n",
    "\n",
    "class WordDictionary(object):\n",
    "    # initialize your data structure here.\n",
    "    def __init__(self):\n",
    "        # Write your code here\n",
    "        self.trie = Trie()\n",
    "\n",
    "    def addWord(self, word):\n",
    "        # Write your code here\n",
    "        self.trie.insert(word)\n",
    "\n",
    "    def search(self, word):\n",
    "        # Write your code here\n",
    "        return self.trie.search(word)\n",
    "# Your WordDictionary object will be instantiated and called as such:\n",
    "obj = WordDictionary()\n",
    "obj.addWord('word')\n",
    "print obj.search('s')\n"
   ]
  },
  {
   "cell_type": "code",
   "execution_count": 28,
   "metadata": {
    "collapsed": false
   },
   "outputs": [],
   "source": [
    "#given a word list and a sentence, count\n",
    "\n",
    "def count_word(word, sen):\n",
    "    sen_list = []\n",
    "    result = {}\n",
    "    word_list = []\n",
    "    if len(word) == 0 or len(sen.strip()) == 0: \n",
    "        return 0\n",
    "    for item in sen.split():       \n",
    "        temp = list(item)\n",
    "        sen_list.append(sorted(temp))\n",
    "   \n",
    "    for item in word:\n",
    "        temp = list(item)\n",
    "        word_list.append(sorted(temp))\n",
    "   \n",
    "    for val1 in word_list:\n",
    "        if val1 in sen_list:\n",
    "            s = ''.join(val1)\n",
    "            result[s] = result.get(s, 0) + 1 \n",
    "    return result"
   ]
  },
  {
   "cell_type": "code",
   "execution_count": 30,
   "metadata": {
    "collapsed": false
   },
   "outputs": [
    {
     "data": {
      "text/plain": [
       "['this', 'is', 'a', 'pen']"
      ]
     },
     "execution_count": 30,
     "metadata": {},
     "output_type": "execute_result"
    }
   ],
   "source": [
    "import re\n",
    "a = 'this is a pen.'\n",
    "re.findall(r'\\w+', a)"
   ]
  },
  {
   "cell_type": "code",
   "execution_count": 29,
   "metadata": {
    "collapsed": false
   },
   "outputs": [
    {
     "data": {
      "text/plain": [
       "{'eht': 2, 'inp': 1}"
      ]
     },
     "execution_count": 29,
     "metadata": {},
     "output_type": "execute_result"
    }
   ],
   "source": [
    "s = 'the teh pin total es bin ipn'\n",
    "w = ['the', 'eth','nip']\n",
    "count_word(w, s)"
   ]
  },
  {
   "cell_type": "code",
   "execution_count": 31,
   "metadata": {
    "collapsed": false
   },
   "outputs": [
    {
     "data": {
      "text/plain": [
       "['eth', 'nip', 'the']"
      ]
     },
     "execution_count": 31,
     "metadata": {},
     "output_type": "execute_result"
    }
   ],
   "source": [
    "class Solution(object):\n",
    "    def depthSum(self, nestedList):\n",
    "        \"\"\"\n",
    "        :type nestedList: List[NestedInteger]\n",
    "        :rtype: int\n",
    "        \"\"\"\n",
    "        stack = []\n",
    "        sum = 0\n",
    "        for item in nestedList:\n",
    "            stack.append((item, 1))\n",
    "        while stack:\n",
    "            num, d = stack.pop()\n",
    "            if num.isInteger():\n",
    "                sum += num.getInteger()*d\n",
    "            else:\n",
    "                for j in num.getList():\n",
    "                    stack.append((j, d+1))\n",
    "        return sum"
   ]
  },
  {
   "cell_type": "code",
   "execution_count": 38,
   "metadata": {
    "collapsed": false
   },
   "outputs": [
    {
     "data": {
      "text/plain": [
       "''"
      ]
     },
     "execution_count": 38,
     "metadata": {},
     "output_type": "execute_result"
    }
   ],
   "source": [
    "' '.strip()\n"
   ]
  },
  {
   "cell_type": "code",
   "execution_count": 41,
   "metadata": {
    "collapsed": false
   },
   "outputs": [
    {
     "data": {
      "text/plain": [
       "Counter({'a': 1, 'b': 1, 'c': 1})"
      ]
     },
     "execution_count": 41,
     "metadata": {},
     "output_type": "execute_result"
    }
   ],
   "source": [
    "from collections import Counter\n",
    "Counter('acb')"
   ]
  },
  {
   "cell_type": "code",
   "execution_count": 43,
   "metadata": {
    "collapsed": false
   },
   "outputs": [
    {
     "data": {
      "text/plain": [
       "{'a': 1, 'b': 1, 's': 1}"
      ]
     },
     "execution_count": 43,
     "metadata": {},
     "output_type": "execute_result"
    }
   ],
   "source": [
    "dic = {}\n",
    "for i in 'abs':\n",
    "    dic[i] = dic.get(i, 0)+1\n",
    "dic"
   ]
  },
  {
   "cell_type": "code",
   "execution_count": 46,
   "metadata": {
    "collapsed": false
   },
   "outputs": [
    {
     "data": {
      "text/plain": [
       "'a'"
      ]
     },
     "execution_count": 46,
     "metadata": {},
     "output_type": "execute_result"
    }
   ],
   "source": [
    "l = [1,2,3]\n",
    "l[-1]\n",
    "word = ''\n",
    "word = word+ 'a'\n",
    "word"
   ]
  },
  {
   "cell_type": "code",
   "execution_count": 5,
   "metadata": {
    "collapsed": false
   },
   "outputs": [
    {
     "data": {
      "text/plain": [
       "'['"
      ]
     },
     "execution_count": 5,
     "metadata": {},
     "output_type": "execute_result"
    }
   ],
   "source": [
    "a = '[1,2,3]'\n",
    "b = '[4]'\n",
    "a[0]"
   ]
  },
  {
   "cell_type": "code",
   "execution_count": 2,
   "metadata": {
    "collapsed": false
   },
   "outputs": [
    {
     "name": "stdout",
     "output_type": "stream",
     "text": [
      "6\n"
     ]
    }
   ],
   "source": [
    "def sumList(l):\n",
    "    val = 0\n",
    "    for i in l:\n",
    "        val += i\n",
    "    return val\n",
    "print sumList([1,2,3])\n",
    "\n",
    "def sumList2(l):\n",
    "    if len(l)==1:\n",
    "        return l[0]\n",
    "    else:\n",
    "        return l[0]+l[1:]\n",
    "print sumList([1,2,3])"
   ]
  },
  {
   "cell_type": "code",
   "execution_count": 13,
   "metadata": {
    "collapsed": false
   },
   "outputs": [
    {
     "name": "stdout",
     "output_type": "stream",
     "text": [
      "4\n",
      "False\n"
     ]
    }
   ],
   "source": [
    "def seqFind(l,val):\n",
    "    pos = 0\n",
    "    found = False\n",
    "    while pos<len(l) and not found:\n",
    "        if l[pos] == val:\n",
    "            found = True\n",
    "        else:\n",
    "            pos = pos+1\n",
    "    return pos\n",
    "print seqFind([1,2,3,4,5], 5)\n",
    "\n",
    "def seqFind2(l, val):\n",
    "    pos = 0\n",
    "    found = False\n",
    "    stop = False\n",
    "    while pos < len(l) and not found and not stop:\n",
    "        if l[pos] == val:\n",
    "            found = True\n",
    "        else:\n",
    "            if l[pos]> val:\n",
    "                stop = True\n",
    "            else: \n",
    "                pos += 1\n",
    "    return found\n",
    "testlist = [0, 1, 2, 8, 13, 17, 19, 32, 42,]\n",
    "print(seqFind2(testlist, 3))"
   ]
  },
  {
   "cell_type": "code",
   "execution_count": 18,
   "metadata": {
    "collapsed": false
   },
   "outputs": [
    {
     "name": "stdout",
     "output_type": "stream",
     "text": [
      "True\n",
      "True\n"
     ]
    }
   ],
   "source": [
    "def binarySearch(l, val):\n",
    "    first = 0\n",
    "    last = len(l)-1\n",
    "    found = False\n",
    "    while first<=last and not found:\n",
    "        mid = (first+last)//2\n",
    "        if l[mid] == val:\n",
    "            found = True\n",
    "        else:\n",
    "            if l[mid] < val:\n",
    "                first = mid +1\n",
    "            else:\n",
    "                last = mid -1\n",
    "    return found\n",
    "print(binarySearch(testlist, 2))\n",
    "\n",
    "# recursive binary search\n",
    "def binarySearch2(l, val):\n",
    "    if len(l) == 0:\n",
    "        return False\n",
    "    else:\n",
    "        mid = len(l)//2\n",
    "        if l[mid] == val:\n",
    "            return True\n",
    "        else:\n",
    "            if l[mid] < val:\n",
    "                return binarySearch2(l[mid+1:], val)\n",
    "            else:\n",
    "                return binarySearch2(l[:mid], val)\n",
    "print(binarySearch2(testlist, 2))"
   ]
  },
  {
   "cell_type": "code",
   "execution_count": 25,
   "metadata": {
    "collapsed": false
   },
   "outputs": [
    {
     "name": "stdout",
     "output_type": "stream",
     "text": [
      "[17, 20, 26, 31, 44, 54, 55, 77, 93]\n",
      "[20, 30, 40, 50, 60, 70, 80, 90, 100, 110]\n"
     ]
    }
   ],
   "source": [
    "# every time move the largest to the end, need n-1 passes\n",
    "def bubbleSort(l):\n",
    "    for i in range(len(l)-1, 0, -1):\n",
    "        for j in range(i):\n",
    "            if l[j] > l[j+1]:\n",
    "                temp = l[j]\n",
    "                l[j] = l[j+1]\n",
    "                l[j+1] = temp\n",
    "alist = [54,26,93,17,77,31,44,55,20]\n",
    "bubbleSort(alist)\n",
    "print(alist)     \n",
    "\n",
    "# if in one pass, there are no exchanges, then it can stop early\n",
    "def bubbleSort2(l):\n",
    "    exchange = True\n",
    "    passNum = len(l)-1\n",
    "    while passNum >0 and exchange:\n",
    "        exchange = False\n",
    "        for i in range(passNum):\n",
    "            if l[i] >l[i+1]:\n",
    "                exchange = True\n",
    "                temp = l[i]\n",
    "                l[i] = l[i+1]\n",
    "                l[i+1] = temp\n",
    "            passNum = passNum-1\n",
    "alist=[20,30,40,90,50,60,70,80,100,110]\n",
    "bubbleSort2(alist)\n",
    "print(alist)"
   ]
  },
  {
   "cell_type": "code",
   "execution_count": 27,
   "metadata": {
    "collapsed": false
   },
   "outputs": [
    {
     "name": "stdout",
     "output_type": "stream",
     "text": [
      "[17, 20, 26, 31, 44, 54, 55, 77, 93]\n"
     ]
    }
   ],
   "source": [
    "def selectionSort(l):\n",
    "    for i in range(len(l)-1,0,-1):\n",
    "        maxPos = 0\n",
    "        for j in range(1, i+1):\n",
    "            if l[j] > l[maxPos]:\n",
    "                maxPos = j\n",
    "        temp = l[i]\n",
    "        l[i]= l[maxPos]\n",
    "        l[maxPos] = temp\n",
    "alist = [54,26,93,17,77,31,44,55,20]\n",
    "selectionSort(alist)\n",
    "print(alist)"
   ]
  },
  {
   "cell_type": "code",
   "execution_count": 3,
   "metadata": {
    "collapsed": false
   },
   "outputs": [
    {
     "name": "stdout",
     "output_type": "stream",
     "text": [
      "[17, 20, 26, 31, 44, 54, 55, 77, 93]\n"
     ]
    }
   ],
   "source": [
    "def insertSort(l):\n",
    "    for i in range(1, len(l)):\n",
    "        currVal = l[i]\n",
    "        pos = i\n",
    "        while pos >0 and l[pos-1] >currVal:\n",
    "            l[pos] = l[pos-1]\n",
    "            pos = pos -1\n",
    "        l[pos] = currVal\n",
    "\n",
    "alist = [54,26,93,17,77,31,44,55,20]\n",
    "insertSort(alist)\n",
    "print(alist)\n"
   ]
  },
  {
   "cell_type": "code",
   "execution_count": 29,
   "metadata": {
    "collapsed": false
   },
   "outputs": [
    {
     "name": "stdout",
     "output_type": "stream",
     "text": [
      "('After increments of size', 4, 'The list is', [20, 26, 44, 17, 54, 31, 93, 55, 77])\n",
      "('After increments of size', 2, 'The list is', [20, 17, 44, 26, 54, 31, 77, 55, 93])\n",
      "('After increments of size', 1, 'The list is', [17, 20, 26, 31, 44, 54, 55, 77, 93])\n",
      "[17, 20, 26, 31, 44, 54, 55, 77, 93]\n"
     ]
    }
   ],
   "source": [
    "def shellSort(l):\n",
    "    sublcount = len(l)//2\n",
    "    while sublcount >0:\n",
    "        for startPos in range(sublcount):\n",
    "            gapInsertSort(l, startPos, sublcount)\n",
    "        \n",
    "        print(\"After increments of size\",sublcount,\n",
    "                                   \"The list is\",l)\n",
    "        sublcount = sublcount //2\n",
    "        \n",
    "def gapInsertSort(l, start, gap):\n",
    "    for i in range(start+gap,len(l),gap):\n",
    "        currentvalue = l[i]\n",
    "        position = i\n",
    "        while position>=gap and l[position-gap]>currentvalue:\n",
    "            l[position]=l[position-gap]\n",
    "            position = position-gap\n",
    "\n",
    "        l[position]=currentvalue\n",
    "alist = [54,26,93,17,77,31,44,55,20]\n",
    "shellSort(alist)\n",
    "print(alist)"
   ]
  },
  {
   "cell_type": "code",
   "execution_count": 35,
   "metadata": {
    "collapsed": false
   },
   "outputs": [
    {
     "name": "stdout",
     "output_type": "stream",
     "text": [
      "('Splitting ', [54, 26, 93, 17, 77])\n",
      "('Splitting ', [54, 26])\n",
      "('Splitting ', [54])\n",
      "('Merging ', [54])\n",
      "('Splitting ', [26])\n",
      "('Merging ', [26])\n",
      "('Merging ', [26, 54])\n",
      "('Splitting ', [93, 17, 77])\n",
      "('Splitting ', [93])\n",
      "('Merging ', [93])\n",
      "('Splitting ', [17, 77])\n",
      "('Splitting ', [17])\n",
      "('Merging ', [17])\n",
      "('Splitting ', [77])\n",
      "('Merging ', [77])\n",
      "('Merging ', [17, 77])\n",
      "('Merging ', [17, 77, 93])\n",
      "('Merging ', [17, 26, 54, 77, 93])\n",
      "[17, 26, 54, 77, 93]\n"
     ]
    }
   ],
   "source": [
    "def mergeSort(l):\n",
    "    print(\"Splitting \",l)\n",
    "    if len(l) >1:\n",
    "        mid = len(l)//2\n",
    "        left = l[:mid]\n",
    "        right = l[mid:]\n",
    "        mergeSort(left)\n",
    "        mergeSort(right)\n",
    "        i, j, k = 0,0,0\n",
    "        while i < len(left) and j <len(right):\n",
    "            if left[i] <right[j]:\n",
    "                l[k] = left[i]\n",
    "                k = k+1\n",
    "                i = i+1\n",
    "            else:\n",
    "                l[k] = right[j]\n",
    "                k = k+1\n",
    "                j = j+1\n",
    "        while i < len(left):\n",
    "            l[k] = left[i]\n",
    "            k = k+1\n",
    "            i = i+1\n",
    "        while j < len(right):\n",
    "            l[k] = right[j]\n",
    "            k = k+1\n",
    "            j = j+1\n",
    "    print(\"Merging \",l)\n",
    "alist = [54,26,93,17,77]\n",
    "mergeSort(alist)\n",
    "print(alist)"
   ]
  },
  {
   "cell_type": "code",
   "execution_count": 37,
   "metadata": {
    "collapsed": false
   },
   "outputs": [
    {
     "name": "stdout",
     "output_type": "stream",
     "text": [
      "[17, 20, 26, 31, 44, 54, 55, 77, 93]\n"
     ]
    }
   ],
   "source": [
    "def quickSort(alist, first, last):\n",
    "    if first<last:\n",
    "        splitpoint = partition(alist,first,last)\n",
    "        quickSort(alist,first,splitpoint-1)\n",
    "        quickSort(alist,splitpoint+1,last)\n",
    "    \n",
    "def partition(alist,first,last):\n",
    "    pivotvalue = alist[first]\n",
    "    leftmark = first+1\n",
    "    rightmark = last\n",
    "\n",
    "    done = False\n",
    "    while not done:\n",
    "        while leftmark <= rightmark and alist[leftmark] <= pivotvalue:\n",
    "            leftmark = leftmark + 1\n",
    "        while alist[rightmark] >= pivotvalue and rightmark >= leftmark:\n",
    "            rightmark = rightmark -1\n",
    "        if rightmark < leftmark:\n",
    "            done = True\n",
    "        else:\n",
    "            temp = alist[leftmark]\n",
    "            alist[leftmark] = alist[rightmark]\n",
    "            alist[rightmark] = temp\n",
    "\n",
    "    temp = alist[first]\n",
    "    alist[first] = alist[rightmark]\n",
    "    alist[rightmark] = temp\n",
    "    return rightmark\n",
    "\n",
    "alist = [54,26,93,17,77,31,44,55,20]\n",
    "quickSort(alist, 0, len(alist)-1)\n",
    "print(alist)\n"
   ]
  },
  {
   "cell_type": "code",
   "execution_count": 42,
   "metadata": {
    "collapsed": false
   },
   "outputs": [
    {
     "name": "stdout",
     "output_type": "stream",
     "text": [
      "('key', 54, 2, [17, 26, 54, 93, 77])\n",
      "('key', 17, 0, [17, 26, 54, 93, 77])\n",
      "('key', 93, 4, [17, 26, 54, 77, 93])\n",
      "[17, 26, 54, 77, 93]\n"
     ]
    }
   ],
   "source": [
    "def partition(l, first, last):\n",
    "    key = l[first]\n",
    "    left = first +1\n",
    "    right = last\n",
    "    done = False\n",
    "    while not done:\n",
    "        while left <= right and l[left] <= key:\n",
    "            left = left+1\n",
    "        while left <= right and l[right] >= key:\n",
    "            right = right -1\n",
    "        if right < left:\n",
    "            done = True\n",
    "        else:\n",
    "            temp = l[left]\n",
    "            l[left] = l[right]\n",
    "            l[right] = temp\n",
    "    temp = l[first]\n",
    "    l[first] = l[right]\n",
    "    l[right] = temp\n",
    "    print('key', key,right, l)\n",
    "    return right\n",
    "def quickSort(l, first, last):\n",
    "    if first <last:\n",
    "        split = partition(l, first, last)\n",
    "        quickSort(l, first, split-1)\n",
    "        quickSort(l, split+1, last)\n",
    "alist = [54,26,93,17,77,]\n",
    "quickSort(alist, 0, len(alist)-1)\n",
    "print(alist)"
   ]
  },
  {
   "cell_type": "code",
   "execution_count": 4,
   "metadata": {
    "collapsed": false
   },
   "outputs": [
    {
     "name": "stdout",
     "output_type": "stream",
     "text": [
      "77\n"
     ]
    }
   ],
   "source": [
    "def findKthLargest( nums, k):\n",
    "        \"\"\"\n",
    "        :type nums: List[int]\n",
    "        :type k: int\n",
    "        :rtype: int\n",
    "        \"\"\"\n",
    "        pivot = nums[0]\n",
    "        left  = [l for l in nums if l < pivot]\n",
    "        equal = [e for e in nums if e == pivot]\n",
    "        right = [r for r in nums if r > pivot]\n",
    "\n",
    "        if k <= len(right):\n",
    "            return findKthLargest(right, k)\n",
    "        elif (k - len(right)) <= len(equal):\n",
    "            return equal[0]\n",
    "        else:\n",
    "            return findKthLargest(left, k - len(right) - len(equal))\n",
    "alist = [54,26,93,17,77,]\n",
    "print findKthLargest(alist, 2)"
   ]
  },
  {
   "cell_type": "code",
   "execution_count": 5,
   "metadata": {
    "collapsed": false
   },
   "outputs": [
    {
     "data": {
      "text/plain": [
       "[1, 2, 3]"
      ]
     },
     "execution_count": 5,
     "metadata": {},
     "output_type": "execute_result"
    }
   ],
   "source": [
    "a = [[1,2,3],[4,5,6],[7,8,9]]\n"
   ]
  },
  {
   "cell_type": "code",
   "execution_count": 8,
   "metadata": {
    "collapsed": false
   },
   "outputs": [
    {
     "ename": "IndexError",
     "evalue": "list index out of range",
     "output_type": "error",
     "traceback": [
      "\u001b[0;31m---------------------------------------------------------------------------\u001b[0m",
      "\u001b[0;31mIndexError\u001b[0m                                Traceback (most recent call last)",
      "\u001b[0;32m<ipython-input-8-51d794efce92>\u001b[0m in \u001b[0;36m<module>\u001b[0;34m()\u001b[0m\n\u001b[1;32m     13\u001b[0m     \u001b[0;32mreturn\u001b[0m \u001b[0mret\u001b[0m\u001b[0;34m\u001b[0m\u001b[0m\n\u001b[1;32m     14\u001b[0m \u001b[0ma\u001b[0m \u001b[0;34m=\u001b[0m \u001b[0;34m[\u001b[0m\u001b[0;34m[\u001b[0m\u001b[0;36m1\u001b[0m\u001b[0;34m,\u001b[0m\u001b[0;36m2\u001b[0m\u001b[0;34m,\u001b[0m\u001b[0;36m3\u001b[0m\u001b[0;34m]\u001b[0m\u001b[0;34m,\u001b[0m\u001b[0;34m[\u001b[0m\u001b[0;36m4\u001b[0m\u001b[0;34m,\u001b[0m\u001b[0;36m5\u001b[0m\u001b[0;34m,\u001b[0m\u001b[0;36m6\u001b[0m\u001b[0;34m]\u001b[0m\u001b[0;34m,\u001b[0m\u001b[0;34m[\u001b[0m\u001b[0;36m7\u001b[0m\u001b[0;34m,\u001b[0m\u001b[0;36m8\u001b[0m\u001b[0;34m,\u001b[0m\u001b[0;36m9\u001b[0m\u001b[0;34m]\u001b[0m\u001b[0;34m]\u001b[0m\u001b[0;34m\u001b[0m\u001b[0m\n\u001b[0;32m---> 15\u001b[0;31m \u001b[0mspiralOrder\u001b[0m\u001b[0;34m(\u001b[0m\u001b[0ma\u001b[0m\u001b[0;34m)\u001b[0m\u001b[0;34m\u001b[0m\u001b[0m\n\u001b[0m",
      "\u001b[0;32m<ipython-input-8-51d794efce92>\u001b[0m in \u001b[0;36mspiralOrder\u001b[0;34m(matrix)\u001b[0m\n\u001b[1;32m      3\u001b[0m     \u001b[0;32mwhile\u001b[0m \u001b[0mmatrix\u001b[0m\u001b[0;34m:\u001b[0m\u001b[0;34m\u001b[0m\u001b[0m\n\u001b[1;32m      4\u001b[0m         \u001b[0mret\u001b[0m \u001b[0;34m+=\u001b[0m \u001b[0mmatrix\u001b[0m\u001b[0;34m.\u001b[0m\u001b[0mpop\u001b[0m\u001b[0;34m(\u001b[0m\u001b[0;36m0\u001b[0m\u001b[0;34m)\u001b[0m\u001b[0;34m\u001b[0m\u001b[0m\n\u001b[0;32m----> 5\u001b[0;31m         \u001b[0;32mif\u001b[0m \u001b[0mmatrix\u001b[0m\u001b[0;34m[\u001b[0m\u001b[0;36m0\u001b[0m\u001b[0;34m]\u001b[0m\u001b[0;34m:\u001b[0m\u001b[0;34m\u001b[0m\u001b[0m\n\u001b[0m\u001b[1;32m      6\u001b[0m             \u001b[0;32mfor\u001b[0m \u001b[0mrow\u001b[0m \u001b[0;32min\u001b[0m \u001b[0mmatrix\u001b[0m\u001b[0;34m:\u001b[0m\u001b[0;34m\u001b[0m\u001b[0m\n\u001b[1;32m      7\u001b[0m                 \u001b[0mret\u001b[0m\u001b[0;34m.\u001b[0m\u001b[0mappend\u001b[0m\u001b[0;34m(\u001b[0m\u001b[0mrow\u001b[0m\u001b[0;34m.\u001b[0m\u001b[0mpop\u001b[0m\u001b[0;34m(\u001b[0m\u001b[0;34m)\u001b[0m\u001b[0;34m)\u001b[0m\u001b[0;34m\u001b[0m\u001b[0m\n",
      "\u001b[0;31mIndexError\u001b[0m: list index out of range"
     ]
    }
   ],
   "source": [
    "def spiralOrder(matrix):\n",
    "    ret = []\n",
    "    while matrix:\n",
    "        ret += matrix.pop(0)\n",
    "        if matrix and matrix[0]:\n",
    "            for row in matrix:\n",
    "                ret.append(row.pop())\n",
    "        if matrix:\n",
    "            ret += matrix.pop()[::-1]\n",
    "        if matrix and matrix[0]:\n",
    "            for row in matrix[::-1]:\n",
    "                ret.append(row.pop(0))\n",
    "    return ret\n",
    "a = [[1,2,3],[4,5,6],[7,8,9]]\n",
    "spiralOrder(a)"
   ]
  },
  {
   "cell_type": "code",
   "execution_count": 10,
   "metadata": {
    "collapsed": false
   },
   "outputs": [
    {
     "data": {
      "text/plain": [
       "[[4, 5, 6], [1, 2, 3]]"
      ]
     },
     "execution_count": 10,
     "metadata": {},
     "output_type": "execute_result"
    }
   ],
   "source": [
    "b = [[1,2,3],[4,5,6]]\n",
    "b[::-1]"
   ]
  },
  {
   "cell_type": "code",
   "execution_count": null,
   "metadata": {
    "collapsed": true
   },
   "outputs": [],
   "source": []
  }
 ],
 "metadata": {
  "kernelspec": {
   "display_name": "Python 2",
   "language": "python",
   "name": "python2"
  },
  "language_info": {
   "codemirror_mode": {
    "name": "ipython",
    "version": 2
   },
   "file_extension": ".py",
   "mimetype": "text/x-python",
   "name": "python",
   "nbconvert_exporter": "python",
   "pygments_lexer": "ipython2",
   "version": "2.7.13"
  }
 },
 "nbformat": 4,
 "nbformat_minor": 0
}
