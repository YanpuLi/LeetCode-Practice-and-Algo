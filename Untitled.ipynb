{
 "cells": [
  {
   "cell_type": "markdown",
   "metadata": {},
   "source": [
    "# OOP Design"
   ]
  },
  {
   "cell_type": "code",
   "execution_count": 97,
   "metadata": {
    "collapsed": false
   },
   "outputs": [
    {
     "name": "stdout",
     "output_type": "stream",
     "text": [
      "[(0, 5)]\n"
     ]
    },
    {
     "data": {
      "text/plain": [
       "[5]"
      ]
     },
     "execution_count": 97,
     "metadata": {},
     "output_type": "execute_result"
    }
   ],
   "source": [
    "'''\n",
    "#355\n",
    "'''\n",
    "import itertools \n",
    "import collections\n",
    "class Twitter(object):\n",
    "\n",
    "    def __init__(self):\n",
    "        \"\"\"\n",
    "        Initialize your data structure here.\n",
    "        \"\"\"\n",
    "        self.timer = itertools.count(step=1)\n",
    "        self.tweets = collections.defaultdict(list)\n",
    "        self.relationship = collections.defaultdict(set)\n",
    "        \n",
    "\n",
    "    def postTweet(self, userId, tweetId):\n",
    "        self.tweets[userId].append((next(self.timer), tweetId))\n",
    "        \n",
    "\n",
    "    def getNewsFeed(self, userId):\n",
    "        \"\"\"\n",
    "        Retrieve the 10 most recent tweet ids in the user's news feed. Each item in the news feed must be posted by users who the user followed or by the user herself. Tweets must be ordered from most recent to least recent.\n",
    "        :type userId: int\n",
    "        :rtype: List[int]\n",
    "        \"\"\"\n",
    "        followees = list(self.relationship[userId]) \n",
    "        if userId not in followees:\n",
    "            followees.append(userId)\n",
    "        \n",
    "        tweet_list = []\n",
    "        tweet_ids = []\n",
    "        for item in followees:\n",
    "            tweet_list = tweet_list + self.tweets[item]\n",
    "\n",
    "        tweet_list.sort(reverse = True)\n",
    "        \n",
    "        for i in tweet_list[0:10]:\n",
    "            tweet_ids.append(i[1])\n",
    "        return tweet_ids\n",
    "        \n",
    "\n",
    "    def follow(self, followerId, followeeId):\n",
    "        self.relationship[followerId].add(followeeId)\n",
    "        \n",
    "\n",
    "    def unfollow(self, followerId, followeeId):\n",
    "        self.relationship[followerId].discard(followeeId)\n",
    "        \n",
    "\n",
    "\n",
    "# Your Twitter object will be instantiated and called as such:\n",
    "obj = Twitter()\n",
    "obj.postTweet(1,5)\n",
    "obj.follow(1,1)\n",
    "\n",
    "obj.getNewsFeed(1)"
   ]
  },
  {
   "cell_type": "code",
   "execution_count": 121,
   "metadata": {
    "collapsed": false
   },
   "outputs": [
    {
     "name": "stdout",
     "output_type": "stream",
     "text": [
      "False\n"
     ]
    }
   ],
   "source": [
    "class TrieNode:\n",
    "    def __init__(self):\n",
    "        self.leaf = False\n",
    "class TrieNode:  \n",
    "    def __init__(self):  \n",
    "        self.leaf = False  \n",
    "        self.children = [None] * 26  \n",
    "class Trie:  \n",
    "    def __init__(self):  \n",
    "        self.root = TrieNode()  \n",
    "        self.size = 0  \n",
    "  \n",
    "    def insert(self, s):  \n",
    "        if len(s) == 0:  \n",
    "            return  \n",
    "        p = self.root  \n",
    "        i = 0  \n",
    "        while i < len(s):  \n",
    "            if p.children[ord(s[i])-ord('a')] is None:  \n",
    "                new_node = TrieNode()  \n",
    "                p.children[ord(s[i])-ord('a')] = new_node  \n",
    "            p = p.children[ord(s[i])-ord('a')]  \n",
    "            i += 1  \n",
    "        p.leaf = True  \n",
    "        self.size += 1  \n",
    "  \n",
    "    def search(self, s):  \n",
    "        if len(s) == 0:  \n",
    "            return False  \n",
    "         \n",
    "        return self.searchRe(s, self.root, 0)\n",
    "        \n",
    "    def searchRe(self, s, p, i):\n",
    "        if len(s) == i:\n",
    "            if p.leaf:\n",
    "                return True\n",
    "            return False\n",
    "            \n",
    "        result = False\n",
    "        if s[i] == '.':\n",
    "            for j in range(0, 26):\n",
    "                if p.children[j] != None:\n",
    "                    if self.searchRe(s, p.children[j], i+1):\n",
    "                        result = True\n",
    "        else:\n",
    "            if p.children[ord(s[i]) - ord('a')] != None:\n",
    "                if self.searchRe(s, p.children[ord(s[i]) - ord('a')], i+1):\n",
    "                    result = True\n",
    "        return result\n",
    "\n",
    "class WordDictionary(object):\n",
    "    # initialize your data structure here.\n",
    "    def __init__(self):\n",
    "        # Write your code here\n",
    "        self.trie = Trie()\n",
    "\n",
    "    def addWord(self, word):\n",
    "        # Write your code here\n",
    "        self.trie.insert(word)\n",
    "\n",
    "    def search(self, word):\n",
    "        # Write your code here\n",
    "        return self.trie.search(word)\n",
    "# Your WordDictionary object will be instantiated and called as such:\n",
    "obj = WordDictionary()\n",
    "obj.addWord('word')\n",
    "print obj.search('s')\n"
   ]
  }
 ],
 "metadata": {
  "kernelspec": {
   "display_name": "Python 2",
   "language": "python",
   "name": "python2"
  },
  "language_info": {
   "codemirror_mode": {
    "name": "ipython",
    "version": 2
   },
   "file_extension": ".py",
   "mimetype": "text/x-python",
   "name": "python",
   "nbconvert_exporter": "python",
   "pygments_lexer": "ipython2",
   "version": "2.7.13"
  }
 },
 "nbformat": 4,
 "nbformat_minor": 0
}
